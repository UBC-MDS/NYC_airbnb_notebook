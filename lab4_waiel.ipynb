{
 "cells": [
  {
   "cell_type": "code",
   "execution_count": 3,
   "metadata": {
    "deletable": false,
    "editable": false
   },
   "outputs": [],
   "source": [
    "# Initialize Otter\n",
    "import otter\n",
    "grader = otter.Notebook(\"lab4.ipynb\")"
   ]
  },
  {
   "cell_type": "markdown",
   "metadata": {},
   "source": [
    "# Lab 4: Putting it all together in a mini project\n",
    "\n",
    "**This lab is an optional group lab.** You can choose to work alone of in a group of up to four students. You are in charge of how you want to work and who you want to work with. Maybe you really want to go through all the steps of the ML process yourself or maybe you want to practice your collaboration skills, it is up to you! Just remember to indicate who your group members are (if any) when you submit on Gradescope. If you choose to work in a group, you only need to use one of your GitHub repos."
   ]
  },
  {
   "cell_type": "markdown",
   "metadata": {},
   "source": [
    "<!-- BEGIN QUESTION -->\n",
    "\n",
    "<div class=\"alert alert-info\">\n",
    "\n",
    "## Submission instructions\n",
    "rubric={mechanics}\n",
    "\n",
    "<p>You receive marks for submitting your lab correctly, please follow these instructions:</p>\n",
    "\n",
    "<ul>\n",
    "  <li><a href=\"https://ubc-mds.github.io/resources_pages/general_lab_instructions/\">\n",
    "      Follow the general lab instructions.</a></li>\n",
    "  <li><a href=\"https://github.com/UBC-MDS/public/tree/master/rubric\">\n",
    "      Click here to view a description of the rubrics used to grade the questions</a></li>\n",
    "  <li>Make at least three commits.</li>\n",
    "  <li>Push your <code>.ipynb</code> file to your GitHub repository for this lab and upload it to Gradescope.</li>\n",
    "    <ul>\n",
    "      <li>Before submitting, make sure you restart the kernel and rerun all cells.</li>\n",
    "    </ul>\n",
    "  <li>Also upload a <code>.pdf</code> export of the notebook to facilitate grading of manual questions (preferably WebPDF, you can select two files when uploading to gradescope)</li>\n",
    "  <li>Don't change any variable names that are given to you, don't move cells around, and don't include any code to install packages in the notebook.</li>\n",
    "  <li>The data you download for this lab <b>SHOULD NOT BE PUSHED TO YOUR REPOSITORY</b> (there is also a <code>.gitignore</code> in the repo to prevent this).</li>\n",
    "  <li>Include a clickable link to your GitHub repo for the lab just below this cell\n",
    "    <ul>\n",
    "      <li>It should look something like this https://github.ubc.ca/MDS-2020-21/DSCI_531_labX_yourcwl.</li>\n",
    "    </ul>\n",
    "  </li>\n",
    "</ul>\n",
    "</div>\n",
    "\n",
    "_Points:_ 2"
   ]
  },
  {
   "cell_type": "markdown",
   "metadata": {},
   "source": [
    "https://github.ubc.ca/MDS-2022-23/DSCI_573_lab4_waielonh"
   ]
  },
  {
   "cell_type": "markdown",
   "metadata": {},
   "source": [
    "<!-- END QUESTION -->\n",
    "\n",
    "## Introduction <a name=\"in\"></a>\n",
    "\n",
    "In this lab you will be working on an open-ended mini-project, where you will put all the different things you have learned so far in 571 and 573 together to solve an interesting problem.\n",
    "\n",
    "A few notes and tips when you work on this mini-project: \n",
    "\n",
    "#### Tips\n",
    "1. Since this mini-project is open-ended there might be some situations where you'll have to use your own judgment and make your own decisions (as you would be doing when you work as a data scientist). Make sure you explain your decisions whenever necessary. \n",
    "2. **Do not include everything you ever tried in your submission** -- it's fine just to have your final code. That said, your code should be reproducible and well-documented. For example, if you chose your hyperparameters based on some hyperparameter optimization experiment, you should leave in the code for that experiment so that someone else could re-run it and obtain the same hyperparameters, rather than mysteriously just setting the hyperparameters to some (carefully chosen) values in your code. \n",
    "3. If you realize that you are repeating a lot of code try to organize it in functions. Clear presentation of your code, experiments, and results is the key to be successful in this lab. You may use code from lecture notes or previous lab solutions with appropriate attributions. \n",
    "\n",
    "#### Assessment\n",
    "We don't have some secret target score that you need to achieve to get a good grade. **You'll be assessed on demonstration of mastery of course topics, clear presentation, and the quality of your analysis and results.** For example, if you just have a bunch of code and no text or figures, that's not good. If you instead do a bunch of sane things and you have clearly motivated your choices, but still get lower model performance than your friend, don't sweat it.\n",
    "\n",
    "\n",
    "#### A final note\n",
    "Finally, the style of this \"project\" question is different from other assignments. It'll be up to you to decide when you're \"done\" -- in fact, this is one of the hardest parts of real projects. But please don't spend WAY too much time on this... perhaps \"several hours\" but not \"many hours\" is a good guideline for a high quality submission. Of course if you're having fun you're welcome to spend as much time as you want! But, if so, try not to do it out of perfectionism or getting the best possible grade. Do it because you're learning and enjoying it. Students from the past cohorts have found such kind of labs useful and fun and we hope you enjoy it as well. "
   ]
  },
  {
   "cell_type": "markdown",
   "metadata": {},
   "source": [
    "<!-- BEGIN QUESTION -->\n",
    "\n",
    "<div class=\"alert alert-info\">\n",
    "\n",
    "## 1. Pick your problem and explain the prediction problem <a name=\"1\"></a>\n",
    "rubric={reasoning}\n",
    "\n",
    "In this mini project, you will pick one of the following problems: \n",
    "\n",
    "1. A classification problem of predicting whether a credit card client will default or not. For this problem, you will use [Default of Credit Card Clients Dataset](https://www.kaggle.com/uciml/default-of-credit-card-clients-dataset). In this data set, there are 30,000 examples and 24 features, and the goal is to estimate whether a person will default (fail to pay) their credit card bills; this column is labeled \"default.payment.next.month\" in the data. The rest of the columns can be used as features. You may take some ideas and compare your results with [the associated research paper](https://www.sciencedirect.com/science/article/pii/S0957417407006719), which is available through [the UBC library](https://www.library.ubc.ca/). \n",
    "\n",
    "OR \n",
    "\n",
    "2. A regression problem of predicting `reviews_per_month`, as a proxy for the popularity of the listing with [New York City Airbnb listings from 2019 dataset](https://www.kaggle.com/dgomonov/new-york-city-airbnb-open-data). Airbnb could use this sort of model to predict how popular future listings might be before they are posted, perhaps to help guide hosts create more appealing listings. In reality they might instead use something like vacancy rate or average rating as their target, but we do not have that available here.\n",
    "\n",
    "**Your tasks:**\n",
    "\n",
    "1. Spend some time understanding the problem and what each feature means. Write a few sentences on your initial thoughts on the problem and the dataset. \n",
    "2. Download the dataset and read it as a pandas dataframe. \n",
    "3. Carry out any preliminary preprocessing, if needed (e.g., changing feature names, handling of NaN values etc.)\n",
    "    \n",
    "</div>\n",
    "\n",
    "_Points:_ 3"
   ]
  },
  {
   "cell_type": "markdown",
   "metadata": {},
   "source": [
    "1. We will be choosing the Regression problem of predicting `reviews_per_month` from the New York City Airbnb listings dataset.\n",
    "\n",
    "- A glimpse of the dataset is shown below. We can see that there is a mix of numerical, categorical as well as textual data.\n",
    "- There seem to be some missing values in the dataset. We choose to remove these values completely from the data as a preliminary preprocessing. We decided it was okay to do so in this case as we still have enough data (~ 39000 observations) to not be much of an issue. If in the worst case the model is still performing poorly after all kinds of optimizations, we may think of making use of the discarded data to try and get some performance out of it.\n",
    "- looks like the `host_name`, `host_id`, and `id` features might not be of much use as they could likely all be unique and they are not numerical. Albeit we wouldn't be know for sure without further investigation\n",
    "\n",
    "3. thefollowing preliminary preprocess has been carried in the cells below:\n",
    "- drop all `NaN` values from the data.\n"
   ]
  },
  {
   "cell_type": "code",
   "execution_count": 4,
   "metadata": {
    "tags": []
   },
   "outputs": [
    {
     "name": "stderr",
     "output_type": "stream",
     "text": [
      "/var/folders/qf/gdbpcc5s2jxfxm00j19q2_780000gn/T/ipykernel_66764/4074918089.py:28: FutureWarning: Treating datetime data as categorical rather than numeric in `.describe` is deprecated and will be removed in a future version of pandas. Specify `datetime_is_numeric=True` to silence this warning and adopt the future behavior now.\n",
      "  data_raw.describe(include='all')\n"
     ]
    },
    {
     "data": {
      "text/html": [
       "<div>\n",
       "<style scoped>\n",
       "    .dataframe tbody tr th:only-of-type {\n",
       "        vertical-align: middle;\n",
       "    }\n",
       "\n",
       "    .dataframe tbody tr th {\n",
       "        vertical-align: top;\n",
       "    }\n",
       "\n",
       "    .dataframe thead th {\n",
       "        text-align: right;\n",
       "    }\n",
       "</style>\n",
       "<table border=\"1\" class=\"dataframe\">\n",
       "  <thead>\n",
       "    <tr style=\"text-align: right;\">\n",
       "      <th></th>\n",
       "      <th>id</th>\n",
       "      <th>name</th>\n",
       "      <th>host_id</th>\n",
       "      <th>host_name</th>\n",
       "      <th>neighbourhood_group</th>\n",
       "      <th>neighbourhood</th>\n",
       "      <th>latitude</th>\n",
       "      <th>longitude</th>\n",
       "      <th>room_type</th>\n",
       "      <th>price</th>\n",
       "      <th>minimum_nights</th>\n",
       "      <th>number_of_reviews</th>\n",
       "      <th>last_review</th>\n",
       "      <th>reviews_per_month</th>\n",
       "      <th>calculated_host_listings_count</th>\n",
       "      <th>availability_365</th>\n",
       "    </tr>\n",
       "  </thead>\n",
       "  <tbody>\n",
       "    <tr>\n",
       "      <th>count</th>\n",
       "      <td>4.889500e+04</td>\n",
       "      <td>48879</td>\n",
       "      <td>4.889500e+04</td>\n",
       "      <td>48874</td>\n",
       "      <td>48895</td>\n",
       "      <td>48895</td>\n",
       "      <td>48895.000000</td>\n",
       "      <td>48895.000000</td>\n",
       "      <td>48895</td>\n",
       "      <td>48895.000000</td>\n",
       "      <td>48895.000000</td>\n",
       "      <td>48895.000000</td>\n",
       "      <td>38843</td>\n",
       "      <td>38843.000000</td>\n",
       "      <td>48895.000000</td>\n",
       "      <td>48895.000000</td>\n",
       "    </tr>\n",
       "    <tr>\n",
       "      <th>unique</th>\n",
       "      <td>NaN</td>\n",
       "      <td>47905</td>\n",
       "      <td>NaN</td>\n",
       "      <td>11452</td>\n",
       "      <td>5</td>\n",
       "      <td>221</td>\n",
       "      <td>NaN</td>\n",
       "      <td>NaN</td>\n",
       "      <td>3</td>\n",
       "      <td>NaN</td>\n",
       "      <td>NaN</td>\n",
       "      <td>NaN</td>\n",
       "      <td>1764</td>\n",
       "      <td>NaN</td>\n",
       "      <td>NaN</td>\n",
       "      <td>NaN</td>\n",
       "    </tr>\n",
       "    <tr>\n",
       "      <th>top</th>\n",
       "      <td>NaN</td>\n",
       "      <td>Hillside Hotel</td>\n",
       "      <td>NaN</td>\n",
       "      <td>Michael</td>\n",
       "      <td>Manhattan</td>\n",
       "      <td>Williamsburg</td>\n",
       "      <td>NaN</td>\n",
       "      <td>NaN</td>\n",
       "      <td>Entire home/apt</td>\n",
       "      <td>NaN</td>\n",
       "      <td>NaN</td>\n",
       "      <td>NaN</td>\n",
       "      <td>2019-06-23 00:00:00</td>\n",
       "      <td>NaN</td>\n",
       "      <td>NaN</td>\n",
       "      <td>NaN</td>\n",
       "    </tr>\n",
       "    <tr>\n",
       "      <th>freq</th>\n",
       "      <td>NaN</td>\n",
       "      <td>18</td>\n",
       "      <td>NaN</td>\n",
       "      <td>417</td>\n",
       "      <td>21661</td>\n",
       "      <td>3920</td>\n",
       "      <td>NaN</td>\n",
       "      <td>NaN</td>\n",
       "      <td>25409</td>\n",
       "      <td>NaN</td>\n",
       "      <td>NaN</td>\n",
       "      <td>NaN</td>\n",
       "      <td>1413</td>\n",
       "      <td>NaN</td>\n",
       "      <td>NaN</td>\n",
       "      <td>NaN</td>\n",
       "    </tr>\n",
       "    <tr>\n",
       "      <th>first</th>\n",
       "      <td>NaN</td>\n",
       "      <td>NaN</td>\n",
       "      <td>NaN</td>\n",
       "      <td>NaN</td>\n",
       "      <td>NaN</td>\n",
       "      <td>NaN</td>\n",
       "      <td>NaN</td>\n",
       "      <td>NaN</td>\n",
       "      <td>NaN</td>\n",
       "      <td>NaN</td>\n",
       "      <td>NaN</td>\n",
       "      <td>NaN</td>\n",
       "      <td>2011-03-28 00:00:00</td>\n",
       "      <td>NaN</td>\n",
       "      <td>NaN</td>\n",
       "      <td>NaN</td>\n",
       "    </tr>\n",
       "    <tr>\n",
       "      <th>last</th>\n",
       "      <td>NaN</td>\n",
       "      <td>NaN</td>\n",
       "      <td>NaN</td>\n",
       "      <td>NaN</td>\n",
       "      <td>NaN</td>\n",
       "      <td>NaN</td>\n",
       "      <td>NaN</td>\n",
       "      <td>NaN</td>\n",
       "      <td>NaN</td>\n",
       "      <td>NaN</td>\n",
       "      <td>NaN</td>\n",
       "      <td>NaN</td>\n",
       "      <td>2019-07-08 00:00:00</td>\n",
       "      <td>NaN</td>\n",
       "      <td>NaN</td>\n",
       "      <td>NaN</td>\n",
       "    </tr>\n",
       "    <tr>\n",
       "      <th>mean</th>\n",
       "      <td>1.901714e+07</td>\n",
       "      <td>NaN</td>\n",
       "      <td>6.762001e+07</td>\n",
       "      <td>NaN</td>\n",
       "      <td>NaN</td>\n",
       "      <td>NaN</td>\n",
       "      <td>40.728949</td>\n",
       "      <td>-73.952170</td>\n",
       "      <td>NaN</td>\n",
       "      <td>152.720687</td>\n",
       "      <td>7.029962</td>\n",
       "      <td>23.274466</td>\n",
       "      <td>NaN</td>\n",
       "      <td>1.373221</td>\n",
       "      <td>7.143982</td>\n",
       "      <td>112.781327</td>\n",
       "    </tr>\n",
       "    <tr>\n",
       "      <th>std</th>\n",
       "      <td>1.098311e+07</td>\n",
       "      <td>NaN</td>\n",
       "      <td>7.861097e+07</td>\n",
       "      <td>NaN</td>\n",
       "      <td>NaN</td>\n",
       "      <td>NaN</td>\n",
       "      <td>0.054530</td>\n",
       "      <td>0.046157</td>\n",
       "      <td>NaN</td>\n",
       "      <td>240.154170</td>\n",
       "      <td>20.510550</td>\n",
       "      <td>44.550582</td>\n",
       "      <td>NaN</td>\n",
       "      <td>1.680442</td>\n",
       "      <td>32.952519</td>\n",
       "      <td>131.622289</td>\n",
       "    </tr>\n",
       "    <tr>\n",
       "      <th>min</th>\n",
       "      <td>2.539000e+03</td>\n",
       "      <td>NaN</td>\n",
       "      <td>2.438000e+03</td>\n",
       "      <td>NaN</td>\n",
       "      <td>NaN</td>\n",
       "      <td>NaN</td>\n",
       "      <td>40.499790</td>\n",
       "      <td>-74.244420</td>\n",
       "      <td>NaN</td>\n",
       "      <td>0.000000</td>\n",
       "      <td>1.000000</td>\n",
       "      <td>0.000000</td>\n",
       "      <td>NaN</td>\n",
       "      <td>0.010000</td>\n",
       "      <td>1.000000</td>\n",
       "      <td>0.000000</td>\n",
       "    </tr>\n",
       "    <tr>\n",
       "      <th>25%</th>\n",
       "      <td>9.471945e+06</td>\n",
       "      <td>NaN</td>\n",
       "      <td>7.822033e+06</td>\n",
       "      <td>NaN</td>\n",
       "      <td>NaN</td>\n",
       "      <td>NaN</td>\n",
       "      <td>40.690100</td>\n",
       "      <td>-73.983070</td>\n",
       "      <td>NaN</td>\n",
       "      <td>69.000000</td>\n",
       "      <td>1.000000</td>\n",
       "      <td>1.000000</td>\n",
       "      <td>NaN</td>\n",
       "      <td>0.190000</td>\n",
       "      <td>1.000000</td>\n",
       "      <td>0.000000</td>\n",
       "    </tr>\n",
       "    <tr>\n",
       "      <th>50%</th>\n",
       "      <td>1.967728e+07</td>\n",
       "      <td>NaN</td>\n",
       "      <td>3.079382e+07</td>\n",
       "      <td>NaN</td>\n",
       "      <td>NaN</td>\n",
       "      <td>NaN</td>\n",
       "      <td>40.723070</td>\n",
       "      <td>-73.955680</td>\n",
       "      <td>NaN</td>\n",
       "      <td>106.000000</td>\n",
       "      <td>3.000000</td>\n",
       "      <td>5.000000</td>\n",
       "      <td>NaN</td>\n",
       "      <td>0.720000</td>\n",
       "      <td>1.000000</td>\n",
       "      <td>45.000000</td>\n",
       "    </tr>\n",
       "    <tr>\n",
       "      <th>75%</th>\n",
       "      <td>2.915218e+07</td>\n",
       "      <td>NaN</td>\n",
       "      <td>1.074344e+08</td>\n",
       "      <td>NaN</td>\n",
       "      <td>NaN</td>\n",
       "      <td>NaN</td>\n",
       "      <td>40.763115</td>\n",
       "      <td>-73.936275</td>\n",
       "      <td>NaN</td>\n",
       "      <td>175.000000</td>\n",
       "      <td>5.000000</td>\n",
       "      <td>24.000000</td>\n",
       "      <td>NaN</td>\n",
       "      <td>2.020000</td>\n",
       "      <td>2.000000</td>\n",
       "      <td>227.000000</td>\n",
       "    </tr>\n",
       "    <tr>\n",
       "      <th>max</th>\n",
       "      <td>3.648724e+07</td>\n",
       "      <td>NaN</td>\n",
       "      <td>2.743213e+08</td>\n",
       "      <td>NaN</td>\n",
       "      <td>NaN</td>\n",
       "      <td>NaN</td>\n",
       "      <td>40.913060</td>\n",
       "      <td>-73.712990</td>\n",
       "      <td>NaN</td>\n",
       "      <td>10000.000000</td>\n",
       "      <td>1250.000000</td>\n",
       "      <td>629.000000</td>\n",
       "      <td>NaN</td>\n",
       "      <td>58.500000</td>\n",
       "      <td>327.000000</td>\n",
       "      <td>365.000000</td>\n",
       "    </tr>\n",
       "  </tbody>\n",
       "</table>\n",
       "</div>"
      ],
      "text/plain": [
       "                  id            name       host_id host_name  \\\n",
       "count   4.889500e+04           48879  4.889500e+04     48874   \n",
       "unique           NaN           47905           NaN     11452   \n",
       "top              NaN  Hillside Hotel           NaN   Michael   \n",
       "freq             NaN              18           NaN       417   \n",
       "first            NaN             NaN           NaN       NaN   \n",
       "last             NaN             NaN           NaN       NaN   \n",
       "mean    1.901714e+07             NaN  6.762001e+07       NaN   \n",
       "std     1.098311e+07             NaN  7.861097e+07       NaN   \n",
       "min     2.539000e+03             NaN  2.438000e+03       NaN   \n",
       "25%     9.471945e+06             NaN  7.822033e+06       NaN   \n",
       "50%     1.967728e+07             NaN  3.079382e+07       NaN   \n",
       "75%     2.915218e+07             NaN  1.074344e+08       NaN   \n",
       "max     3.648724e+07             NaN  2.743213e+08       NaN   \n",
       "\n",
       "       neighbourhood_group neighbourhood      latitude     longitude  \\\n",
       "count                48895         48895  48895.000000  48895.000000   \n",
       "unique                   5           221           NaN           NaN   \n",
       "top              Manhattan  Williamsburg           NaN           NaN   \n",
       "freq                 21661          3920           NaN           NaN   \n",
       "first                  NaN           NaN           NaN           NaN   \n",
       "last                   NaN           NaN           NaN           NaN   \n",
       "mean                   NaN           NaN     40.728949    -73.952170   \n",
       "std                    NaN           NaN      0.054530      0.046157   \n",
       "min                    NaN           NaN     40.499790    -74.244420   \n",
       "25%                    NaN           NaN     40.690100    -73.983070   \n",
       "50%                    NaN           NaN     40.723070    -73.955680   \n",
       "75%                    NaN           NaN     40.763115    -73.936275   \n",
       "max                    NaN           NaN     40.913060    -73.712990   \n",
       "\n",
       "              room_type         price  minimum_nights  number_of_reviews  \\\n",
       "count             48895  48895.000000    48895.000000       48895.000000   \n",
       "unique                3           NaN             NaN                NaN   \n",
       "top     Entire home/apt           NaN             NaN                NaN   \n",
       "freq              25409           NaN             NaN                NaN   \n",
       "first               NaN           NaN             NaN                NaN   \n",
       "last                NaN           NaN             NaN                NaN   \n",
       "mean                NaN    152.720687        7.029962          23.274466   \n",
       "std                 NaN    240.154170       20.510550          44.550582   \n",
       "min                 NaN      0.000000        1.000000           0.000000   \n",
       "25%                 NaN     69.000000        1.000000           1.000000   \n",
       "50%                 NaN    106.000000        3.000000           5.000000   \n",
       "75%                 NaN    175.000000        5.000000          24.000000   \n",
       "max                 NaN  10000.000000     1250.000000         629.000000   \n",
       "\n",
       "                last_review  reviews_per_month  \\\n",
       "count                 38843       38843.000000   \n",
       "unique                 1764                NaN   \n",
       "top     2019-06-23 00:00:00                NaN   \n",
       "freq                   1413                NaN   \n",
       "first   2011-03-28 00:00:00                NaN   \n",
       "last    2019-07-08 00:00:00                NaN   \n",
       "mean                    NaN           1.373221   \n",
       "std                     NaN           1.680442   \n",
       "min                     NaN           0.010000   \n",
       "25%                     NaN           0.190000   \n",
       "50%                     NaN           0.720000   \n",
       "75%                     NaN           2.020000   \n",
       "max                     NaN          58.500000   \n",
       "\n",
       "        calculated_host_listings_count  availability_365  \n",
       "count                     48895.000000      48895.000000  \n",
       "unique                             NaN               NaN  \n",
       "top                                NaN               NaN  \n",
       "freq                               NaN               NaN  \n",
       "first                              NaN               NaN  \n",
       "last                               NaN               NaN  \n",
       "mean                          7.143982        112.781327  \n",
       "std                          32.952519        131.622289  \n",
       "min                           1.000000          0.000000  \n",
       "25%                           1.000000          0.000000  \n",
       "50%                           1.000000         45.000000  \n",
       "75%                           2.000000        227.000000  \n",
       "max                         327.000000        365.000000  "
      ]
     },
     "execution_count": 4,
     "metadata": {},
     "output_type": "execute_result"
    }
   ],
   "source": [
    "# import necessary packages and download dataset from the given link\n",
    "# https://www.kaggle.com/datasets/dgomonov/new-york-city-airbnb-open-data\n",
    "\n",
    "import pandas as pd\n",
    "import numpy as np\n",
    "import altair as alt\n",
    "import matplotlib.pyplot as plt\n",
    "import helper_functions\n",
    "\n",
    "from sklearn.model_selection import train_test_split\n",
    "from sklearn.pipeline import make_pipeline\n",
    "from sklearn.compose import make_column_transformer\n",
    "from sklearn.preprocessing import StandardScaler\n",
    "from sklearn.preprocessing import OneHotEncoder\n",
    "from sklearn.preprocessing import FunctionTransformer\n",
    "from sklearn.linear_model import LinearRegression\n",
    "from sklearn.tree import DecisionTreeRegressor\n",
    "from sklearn.model_selection import cross_validate\n",
    "from sklearn.linear_model import RidgeCV\n",
    "from sklearn.neighbors import KNeighborsRegressor\n",
    "from sklearn.ensemble import RandomForestRegressor\n",
    "from sklearn.svm import SVR\n",
    "\n",
    "alt.data_transformers.enable('data_server')\n",
    "alt.renderers.enable('mimetype')\n",
    "\n",
    "data_raw = pd.read_csv('data/AB_NYC_2019.csv', parse_dates=['last_review'])\n",
    "data_raw.describe(include='all')"
   ]
  },
  {
   "cell_type": "code",
   "execution_count": 5,
   "metadata": {},
   "outputs": [
    {
     "name": "stdout",
     "output_type": "stream",
     "text": [
      "<class 'pandas.core.frame.DataFrame'>\n",
      "RangeIndex: 48895 entries, 0 to 48894\n",
      "Data columns (total 16 columns):\n",
      " #   Column                          Non-Null Count  Dtype         \n",
      "---  ------                          --------------  -----         \n",
      " 0   id                              48895 non-null  int64         \n",
      " 1   name                            48879 non-null  object        \n",
      " 2   host_id                         48895 non-null  int64         \n",
      " 3   host_name                       48874 non-null  object        \n",
      " 4   neighbourhood_group             48895 non-null  object        \n",
      " 5   neighbourhood                   48895 non-null  object        \n",
      " 6   latitude                        48895 non-null  float64       \n",
      " 7   longitude                       48895 non-null  float64       \n",
      " 8   room_type                       48895 non-null  object        \n",
      " 9   price                           48895 non-null  int64         \n",
      " 10  minimum_nights                  48895 non-null  int64         \n",
      " 11  number_of_reviews               48895 non-null  int64         \n",
      " 12  last_review                     38843 non-null  datetime64[ns]\n",
      " 13  reviews_per_month               38843 non-null  float64       \n",
      " 14  calculated_host_listings_count  48895 non-null  int64         \n",
      " 15  availability_365                48895 non-null  int64         \n",
      "dtypes: datetime64[ns](1), float64(3), int64(7), object(5)\n",
      "memory usage: 6.0+ MB\n"
     ]
    }
   ],
   "source": [
    "data_raw.info()"
   ]
  },
  {
   "cell_type": "code",
   "execution_count": 6,
   "metadata": {},
   "outputs": [
    {
     "data": {
      "text/html": [
       "<div>\n",
       "<style scoped>\n",
       "    .dataframe tbody tr th:only-of-type {\n",
       "        vertical-align: middle;\n",
       "    }\n",
       "\n",
       "    .dataframe tbody tr th {\n",
       "        vertical-align: top;\n",
       "    }\n",
       "\n",
       "    .dataframe thead th {\n",
       "        text-align: right;\n",
       "    }\n",
       "</style>\n",
       "<table border=\"1\" class=\"dataframe\">\n",
       "  <thead>\n",
       "    <tr style=\"text-align: right;\">\n",
       "      <th></th>\n",
       "      <th>id</th>\n",
       "      <th>name</th>\n",
       "      <th>host_id</th>\n",
       "      <th>host_name</th>\n",
       "      <th>neighbourhood_group</th>\n",
       "      <th>neighbourhood</th>\n",
       "      <th>latitude</th>\n",
       "      <th>longitude</th>\n",
       "      <th>room_type</th>\n",
       "      <th>price</th>\n",
       "      <th>minimum_nights</th>\n",
       "      <th>number_of_reviews</th>\n",
       "      <th>last_review</th>\n",
       "      <th>reviews_per_month</th>\n",
       "      <th>calculated_host_listings_count</th>\n",
       "      <th>availability_365</th>\n",
       "    </tr>\n",
       "  </thead>\n",
       "  <tbody>\n",
       "    <tr>\n",
       "      <th>0</th>\n",
       "      <td>2539</td>\n",
       "      <td>Clean &amp; quiet apt home by the park</td>\n",
       "      <td>2787</td>\n",
       "      <td>John</td>\n",
       "      <td>Brooklyn</td>\n",
       "      <td>Kensington</td>\n",
       "      <td>40.64749</td>\n",
       "      <td>-73.97237</td>\n",
       "      <td>Private room</td>\n",
       "      <td>149</td>\n",
       "      <td>1</td>\n",
       "      <td>9</td>\n",
       "      <td>2018-10-19</td>\n",
       "      <td>0.21</td>\n",
       "      <td>6</td>\n",
       "      <td>365</td>\n",
       "    </tr>\n",
       "    <tr>\n",
       "      <th>1</th>\n",
       "      <td>2595</td>\n",
       "      <td>Skylit Midtown Castle</td>\n",
       "      <td>2845</td>\n",
       "      <td>Jennifer</td>\n",
       "      <td>Manhattan</td>\n",
       "      <td>Midtown</td>\n",
       "      <td>40.75362</td>\n",
       "      <td>-73.98377</td>\n",
       "      <td>Entire home/apt</td>\n",
       "      <td>225</td>\n",
       "      <td>1</td>\n",
       "      <td>45</td>\n",
       "      <td>2019-05-21</td>\n",
       "      <td>0.38</td>\n",
       "      <td>2</td>\n",
       "      <td>355</td>\n",
       "    </tr>\n",
       "    <tr>\n",
       "      <th>2</th>\n",
       "      <td>3647</td>\n",
       "      <td>THE VILLAGE OF HARLEM....NEW YORK !</td>\n",
       "      <td>4632</td>\n",
       "      <td>Elisabeth</td>\n",
       "      <td>Manhattan</td>\n",
       "      <td>Harlem</td>\n",
       "      <td>40.80902</td>\n",
       "      <td>-73.94190</td>\n",
       "      <td>Private room</td>\n",
       "      <td>150</td>\n",
       "      <td>3</td>\n",
       "      <td>0</td>\n",
       "      <td>NaT</td>\n",
       "      <td>NaN</td>\n",
       "      <td>1</td>\n",
       "      <td>365</td>\n",
       "    </tr>\n",
       "    <tr>\n",
       "      <th>3</th>\n",
       "      <td>3831</td>\n",
       "      <td>Cozy Entire Floor of Brownstone</td>\n",
       "      <td>4869</td>\n",
       "      <td>LisaRoxanne</td>\n",
       "      <td>Brooklyn</td>\n",
       "      <td>Clinton Hill</td>\n",
       "      <td>40.68514</td>\n",
       "      <td>-73.95976</td>\n",
       "      <td>Entire home/apt</td>\n",
       "      <td>89</td>\n",
       "      <td>1</td>\n",
       "      <td>270</td>\n",
       "      <td>2019-07-05</td>\n",
       "      <td>4.64</td>\n",
       "      <td>1</td>\n",
       "      <td>194</td>\n",
       "    </tr>\n",
       "    <tr>\n",
       "      <th>4</th>\n",
       "      <td>5022</td>\n",
       "      <td>Entire Apt: Spacious Studio/Loft by central park</td>\n",
       "      <td>7192</td>\n",
       "      <td>Laura</td>\n",
       "      <td>Manhattan</td>\n",
       "      <td>East Harlem</td>\n",
       "      <td>40.79851</td>\n",
       "      <td>-73.94399</td>\n",
       "      <td>Entire home/apt</td>\n",
       "      <td>80</td>\n",
       "      <td>10</td>\n",
       "      <td>9</td>\n",
       "      <td>2018-11-19</td>\n",
       "      <td>0.10</td>\n",
       "      <td>1</td>\n",
       "      <td>0</td>\n",
       "    </tr>\n",
       "  </tbody>\n",
       "</table>\n",
       "</div>"
      ],
      "text/plain": [
       "     id                                              name  host_id  \\\n",
       "0  2539                Clean & quiet apt home by the park     2787   \n",
       "1  2595                             Skylit Midtown Castle     2845   \n",
       "2  3647               THE VILLAGE OF HARLEM....NEW YORK !     4632   \n",
       "3  3831                   Cozy Entire Floor of Brownstone     4869   \n",
       "4  5022  Entire Apt: Spacious Studio/Loft by central park     7192   \n",
       "\n",
       "     host_name neighbourhood_group neighbourhood  latitude  longitude  \\\n",
       "0         John            Brooklyn    Kensington  40.64749  -73.97237   \n",
       "1     Jennifer           Manhattan       Midtown  40.75362  -73.98377   \n",
       "2    Elisabeth           Manhattan        Harlem  40.80902  -73.94190   \n",
       "3  LisaRoxanne            Brooklyn  Clinton Hill  40.68514  -73.95976   \n",
       "4        Laura           Manhattan   East Harlem  40.79851  -73.94399   \n",
       "\n",
       "         room_type  price  minimum_nights  number_of_reviews last_review  \\\n",
       "0     Private room    149               1                  9  2018-10-19   \n",
       "1  Entire home/apt    225               1                 45  2019-05-21   \n",
       "2     Private room    150               3                  0         NaT   \n",
       "3  Entire home/apt     89               1                270  2019-07-05   \n",
       "4  Entire home/apt     80              10                  9  2018-11-19   \n",
       "\n",
       "   reviews_per_month  calculated_host_listings_count  availability_365  \n",
       "0               0.21                               6               365  \n",
       "1               0.38                               2               355  \n",
       "2                NaN                               1               365  \n",
       "3               4.64                               1               194  \n",
       "4               0.10                               1                 0  "
      ]
     },
     "execution_count": 6,
     "metadata": {},
     "output_type": "execute_result"
    }
   ],
   "source": [
    "data_raw.head()"
   ]
  },
  {
   "cell_type": "code",
   "execution_count": 7,
   "metadata": {},
   "outputs": [],
   "source": [
    "data = data_raw.dropna().reset_index().drop(columns=['index'])"
   ]
  },
  {
   "cell_type": "code",
   "execution_count": 8,
   "metadata": {},
   "outputs": [
    {
     "data": {
      "text/html": [
       "<div>\n",
       "<style scoped>\n",
       "    .dataframe tbody tr th:only-of-type {\n",
       "        vertical-align: middle;\n",
       "    }\n",
       "\n",
       "    .dataframe tbody tr th {\n",
       "        vertical-align: top;\n",
       "    }\n",
       "\n",
       "    .dataframe thead th {\n",
       "        text-align: right;\n",
       "    }\n",
       "</style>\n",
       "<table border=\"1\" class=\"dataframe\">\n",
       "  <thead>\n",
       "    <tr style=\"text-align: right;\">\n",
       "      <th></th>\n",
       "      <th>id</th>\n",
       "      <th>name</th>\n",
       "      <th>host_id</th>\n",
       "      <th>host_name</th>\n",
       "      <th>neighbourhood_group</th>\n",
       "      <th>neighbourhood</th>\n",
       "      <th>latitude</th>\n",
       "      <th>longitude</th>\n",
       "      <th>room_type</th>\n",
       "      <th>price</th>\n",
       "      <th>minimum_nights</th>\n",
       "      <th>number_of_reviews</th>\n",
       "      <th>last_review</th>\n",
       "      <th>reviews_per_month</th>\n",
       "      <th>calculated_host_listings_count</th>\n",
       "      <th>availability_365</th>\n",
       "    </tr>\n",
       "  </thead>\n",
       "  <tbody>\n",
       "    <tr>\n",
       "      <th>0</th>\n",
       "      <td>2539</td>\n",
       "      <td>Clean &amp; quiet apt home by the park</td>\n",
       "      <td>2787</td>\n",
       "      <td>John</td>\n",
       "      <td>Brooklyn</td>\n",
       "      <td>Kensington</td>\n",
       "      <td>40.64749</td>\n",
       "      <td>-73.97237</td>\n",
       "      <td>Private room</td>\n",
       "      <td>149</td>\n",
       "      <td>1</td>\n",
       "      <td>9</td>\n",
       "      <td>2018-10-19</td>\n",
       "      <td>0.21</td>\n",
       "      <td>6</td>\n",
       "      <td>365</td>\n",
       "    </tr>\n",
       "    <tr>\n",
       "      <th>1</th>\n",
       "      <td>2595</td>\n",
       "      <td>Skylit Midtown Castle</td>\n",
       "      <td>2845</td>\n",
       "      <td>Jennifer</td>\n",
       "      <td>Manhattan</td>\n",
       "      <td>Midtown</td>\n",
       "      <td>40.75362</td>\n",
       "      <td>-73.98377</td>\n",
       "      <td>Entire home/apt</td>\n",
       "      <td>225</td>\n",
       "      <td>1</td>\n",
       "      <td>45</td>\n",
       "      <td>2019-05-21</td>\n",
       "      <td>0.38</td>\n",
       "      <td>2</td>\n",
       "      <td>355</td>\n",
       "    </tr>\n",
       "    <tr>\n",
       "      <th>2</th>\n",
       "      <td>3831</td>\n",
       "      <td>Cozy Entire Floor of Brownstone</td>\n",
       "      <td>4869</td>\n",
       "      <td>LisaRoxanne</td>\n",
       "      <td>Brooklyn</td>\n",
       "      <td>Clinton Hill</td>\n",
       "      <td>40.68514</td>\n",
       "      <td>-73.95976</td>\n",
       "      <td>Entire home/apt</td>\n",
       "      <td>89</td>\n",
       "      <td>1</td>\n",
       "      <td>270</td>\n",
       "      <td>2019-07-05</td>\n",
       "      <td>4.64</td>\n",
       "      <td>1</td>\n",
       "      <td>194</td>\n",
       "    </tr>\n",
       "    <tr>\n",
       "      <th>3</th>\n",
       "      <td>5022</td>\n",
       "      <td>Entire Apt: Spacious Studio/Loft by central park</td>\n",
       "      <td>7192</td>\n",
       "      <td>Laura</td>\n",
       "      <td>Manhattan</td>\n",
       "      <td>East Harlem</td>\n",
       "      <td>40.79851</td>\n",
       "      <td>-73.94399</td>\n",
       "      <td>Entire home/apt</td>\n",
       "      <td>80</td>\n",
       "      <td>10</td>\n",
       "      <td>9</td>\n",
       "      <td>2018-11-19</td>\n",
       "      <td>0.10</td>\n",
       "      <td>1</td>\n",
       "      <td>0</td>\n",
       "    </tr>\n",
       "    <tr>\n",
       "      <th>4</th>\n",
       "      <td>5099</td>\n",
       "      <td>Large Cozy 1 BR Apartment In Midtown East</td>\n",
       "      <td>7322</td>\n",
       "      <td>Chris</td>\n",
       "      <td>Manhattan</td>\n",
       "      <td>Murray Hill</td>\n",
       "      <td>40.74767</td>\n",
       "      <td>-73.97500</td>\n",
       "      <td>Entire home/apt</td>\n",
       "      <td>200</td>\n",
       "      <td>3</td>\n",
       "      <td>74</td>\n",
       "      <td>2019-06-22</td>\n",
       "      <td>0.59</td>\n",
       "      <td>1</td>\n",
       "      <td>129</td>\n",
       "    </tr>\n",
       "  </tbody>\n",
       "</table>\n",
       "</div>"
      ],
      "text/plain": [
       "     id                                              name  host_id  \\\n",
       "0  2539                Clean & quiet apt home by the park     2787   \n",
       "1  2595                             Skylit Midtown Castle     2845   \n",
       "2  3831                   Cozy Entire Floor of Brownstone     4869   \n",
       "3  5022  Entire Apt: Spacious Studio/Loft by central park     7192   \n",
       "4  5099         Large Cozy 1 BR Apartment In Midtown East     7322   \n",
       "\n",
       "     host_name neighbourhood_group neighbourhood  latitude  longitude  \\\n",
       "0         John            Brooklyn    Kensington  40.64749  -73.97237   \n",
       "1     Jennifer           Manhattan       Midtown  40.75362  -73.98377   \n",
       "2  LisaRoxanne            Brooklyn  Clinton Hill  40.68514  -73.95976   \n",
       "3        Laura           Manhattan   East Harlem  40.79851  -73.94399   \n",
       "4        Chris           Manhattan   Murray Hill  40.74767  -73.97500   \n",
       "\n",
       "         room_type  price  minimum_nights  number_of_reviews last_review  \\\n",
       "0     Private room    149               1                  9  2018-10-19   \n",
       "1  Entire home/apt    225               1                 45  2019-05-21   \n",
       "2  Entire home/apt     89               1                270  2019-07-05   \n",
       "3  Entire home/apt     80              10                  9  2018-11-19   \n",
       "4  Entire home/apt    200               3                 74  2019-06-22   \n",
       "\n",
       "   reviews_per_month  calculated_host_listings_count  availability_365  \n",
       "0               0.21                               6               365  \n",
       "1               0.38                               2               355  \n",
       "2               4.64                               1               194  \n",
       "3               0.10                               1                 0  \n",
       "4               0.59                               1               129  "
      ]
     },
     "execution_count": 8,
     "metadata": {},
     "output_type": "execute_result"
    }
   ],
   "source": [
    "data.head()"
   ]
  },
  {
   "cell_type": "markdown",
   "metadata": {},
   "source": [
    "<!-- END QUESTION -->\n",
    "\n",
    "<!-- BEGIN QUESTION -->\n",
    "\n",
    "<div class=\"alert alert-info\">\n",
    "\n",
    "## 2. Data splitting <a name=\"2\"></a>\n",
    "rubric={reasoning}\n",
    "\n",
    "**Your tasks:**\n",
    "\n",
    "1. Split the data into train and test portions.\n",
    "\n",
    "> Make the decision on the `test_size` based on the capacity of your laptop. \n",
    "    \n",
    "</div>\n",
    "\n",
    "_Points:_ 1"
   ]
  },
  {
   "cell_type": "code",
   "execution_count": 9,
   "metadata": {
    "tags": []
   },
   "outputs": [],
   "source": [
    "train_df, test_df = train_test_split(data, test_size=0.3, random_state=123)\n",
    "\n",
    "# X_train, y_train = train_df.drop(columns=['reviews_per_month']), train_df['reviews_per_month']\n",
    "# X_test, y_test = test_df.drop(columns=['reviews_per_month']), test_df['reviews_per_month']\n",
    "\n",
    "# print(\"Shape of training data: \", train_df.shape)\n",
    "# print(\"Shape of test data: \", test_df.shape)"
   ]
  },
  {
   "cell_type": "markdown",
   "metadata": {},
   "source": [
    "We use an 70-30 train-test split, since we have a decent amount of data."
   ]
  },
  {
   "cell_type": "markdown",
   "metadata": {},
   "source": [
    "<!-- END QUESTION -->\n",
    "\n",
    "<!-- BEGIN QUESTION -->\n",
    "\n",
    "<div class=\"alert alert-info\">\n",
    "\n",
    "## 3. EDA <a name=\"3\"></a>\n",
    "rubric={viz,reasoning}\n",
    "    \n",
    "Perform exploratory data analysis on the train set.\n",
    "\n",
    "**Your tasks:**\n",
    "\n",
    "1. Include at least two summary statistics and two visualizations that you find useful, and accompany each one with a sentence explaining it.\n",
    "2. Summarize your initial observations about the data. \n",
    "3. Pick appropriate metric/metrics for assessment. \n",
    "    \n",
    "</div>\n",
    "\n",
    "_Points:_ 6"
   ]
  },
  {
   "cell_type": "markdown",
   "metadata": {},
   "source": [
    "## 1 Exploring numeric features\n",
    "---\n",
    "\n",
    "We plot the distributions of numeric features and some other plots we thought were interesting:\n",
    "\n",
    "- The first dataframe below aims to perhaps get information regarding co-linearity and multi-colinearity between features and the target variable.\n",
    "- Next, the distrubtions of the numerical data. We can get an understanding of what sorts of transformations may be applicable to different features.\n",
    "- We also plot a 2d-histogram between latitude and longitude which shows areas of higher or lower `reviews_per_month` densities.\n",
    "- After looking at the distribution, we see a lot of skewness. So we have plotted log transformations of those to check whether they can be more normal (works better for machine learning models)"
   ]
  },
  {
   "cell_type": "code",
   "execution_count": 10,
   "metadata": {
    "tags": []
   },
   "outputs": [
    {
     "data": {
      "text/plain": [
       "['id',\n",
       " 'host_id',\n",
       " 'latitude',\n",
       " 'longitude',\n",
       " 'price',\n",
       " 'minimum_nights',\n",
       " 'number_of_reviews',\n",
       " 'reviews_per_month',\n",
       " 'calculated_host_listings_count',\n",
       " 'availability_365']"
      ]
     },
     "execution_count": 10,
     "metadata": {},
     "output_type": "execute_result"
    }
   ],
   "source": [
    "numeric_features = (train_df\n",
    "                    .select_dtypes(include='number')\n",
    "                    .columns\n",
    "                    .tolist()\n",
    "                   )\n",
    "numeric_features"
   ]
  },
  {
   "cell_type": "code",
   "execution_count": 11,
   "metadata": {},
   "outputs": [
    {
     "data": {
      "text/html": [
       "<style type=\"text/css\">\n",
       "#T_6c54b_row0_col0, #T_6c54b_row1_col1, #T_6c54b_row2_col2, #T_6c54b_row3_col3, #T_6c54b_row4_col4, #T_6c54b_row5_col5, #T_6c54b_row6_col6, #T_6c54b_row7_col7, #T_6c54b_row8_col8, #T_6c54b_row9_col9 {\n",
       "  background-color: #023858;\n",
       "  color: #f1f1f1;\n",
       "}\n",
       "#T_6c54b_row0_col1 {\n",
       "  background-color: #2f8bbe;\n",
       "  color: #f1f1f1;\n",
       "}\n",
       "#T_6c54b_row0_col2 {\n",
       "  background-color: #fef6fa;\n",
       "  color: #000000;\n",
       "}\n",
       "#T_6c54b_row0_col3, #T_6c54b_row9_col3 {\n",
       "  background-color: #d6d6e9;\n",
       "  color: #000000;\n",
       "}\n",
       "#T_6c54b_row0_col4, #T_6c54b_row2_col5, #T_6c54b_row4_col1, #T_6c54b_row4_col5 {\n",
       "  background-color: #ece7f2;\n",
       "  color: #000000;\n",
       "}\n",
       "#T_6c54b_row0_col5 {\n",
       "  background-color: #faf2f8;\n",
       "  color: #000000;\n",
       "}\n",
       "#T_6c54b_row0_col6, #T_6c54b_row2_col9, #T_6c54b_row3_col4, #T_6c54b_row3_col8, #T_6c54b_row4_col3, #T_6c54b_row5_col7, #T_6c54b_row6_col0, #T_6c54b_row6_col1, #T_6c54b_row7_col5, #T_6c54b_row9_col2 {\n",
       "  background-color: #fff7fb;\n",
       "  color: #000000;\n",
       "}\n",
       "#T_6c54b_row0_col7 {\n",
       "  background-color: #a8bedc;\n",
       "  color: #000000;\n",
       "}\n",
       "#T_6c54b_row0_col8 {\n",
       "  background-color: #e1dfed;\n",
       "  color: #000000;\n",
       "}\n",
       "#T_6c54b_row0_col9 {\n",
       "  background-color: #fdf5fa;\n",
       "  color: #000000;\n",
       "}\n",
       "#T_6c54b_row1_col0 {\n",
       "  background-color: #1b7eb7;\n",
       "  color: #f1f1f1;\n",
       "}\n",
       "#T_6c54b_row1_col2 {\n",
       "  background-color: #fbf3f9;\n",
       "  color: #000000;\n",
       "}\n",
       "#T_6c54b_row1_col3 {\n",
       "  background-color: #ced0e6;\n",
       "  color: #000000;\n",
       "}\n",
       "#T_6c54b_row1_col4 {\n",
       "  background-color: #e9e5f1;\n",
       "  color: #000000;\n",
       "}\n",
       "#T_6c54b_row1_col5, #T_6c54b_row3_col5, #T_6c54b_row8_col3 {\n",
       "  background-color: #f7f0f7;\n",
       "  color: #000000;\n",
       "}\n",
       "#T_6c54b_row1_col6 {\n",
       "  background-color: #e8e4f0;\n",
       "  color: #000000;\n",
       "}\n",
       "#T_6c54b_row1_col7 {\n",
       "  background-color: #a7bddb;\n",
       "  color: #000000;\n",
       "}\n",
       "#T_6c54b_row1_col8, #T_6c54b_row4_col6 {\n",
       "  background-color: #d7d6e9;\n",
       "  color: #000000;\n",
       "}\n",
       "#T_6c54b_row1_col9, #T_6c54b_row2_col4, #T_6c54b_row8_col5 {\n",
       "  background-color: #e4e1ef;\n",
       "  color: #000000;\n",
       "}\n",
       "#T_6c54b_row2_col0, #T_6c54b_row2_col6, #T_6c54b_row3_col7, #T_6c54b_row4_col0 {\n",
       "  background-color: #d2d3e7;\n",
       "  color: #000000;\n",
       "}\n",
       "#T_6c54b_row2_col1 {\n",
       "  background-color: #ebe6f2;\n",
       "  color: #000000;\n",
       "}\n",
       "#T_6c54b_row2_col3 {\n",
       "  background-color: #d9d8ea;\n",
       "  color: #000000;\n",
       "}\n",
       "#T_6c54b_row2_col7, #T_6c54b_row5_col3 {\n",
       "  background-color: #f1ebf5;\n",
       "  color: #000000;\n",
       "}\n",
       "#T_6c54b_row2_col8 {\n",
       "  background-color: #f2ecf5;\n",
       "  color: #000000;\n",
       "}\n",
       "#T_6c54b_row3_col0 {\n",
       "  background-color: #b7c5df;\n",
       "  color: #000000;\n",
       "}\n",
       "#T_6c54b_row3_col1 {\n",
       "  background-color: #d2d2e7;\n",
       "  color: #000000;\n",
       "}\n",
       "#T_6c54b_row3_col2 {\n",
       "  background-color: #efe9f3;\n",
       "  color: #000000;\n",
       "}\n",
       "#T_6c54b_row3_col6 {\n",
       "  background-color: #c4cbe3;\n",
       "  color: #000000;\n",
       "}\n",
       "#T_6c54b_row3_col9 {\n",
       "  background-color: #ede8f3;\n",
       "  color: #000000;\n",
       "}\n",
       "#T_6c54b_row4_col2, #T_6c54b_row5_col2, #T_6c54b_row6_col5 {\n",
       "  background-color: #f8f1f8;\n",
       "  color: #000000;\n",
       "}\n",
       "#T_6c54b_row4_col7 {\n",
       "  background-color: #f5eef6;\n",
       "  color: #000000;\n",
       "}\n",
       "#T_6c54b_row4_col8 {\n",
       "  background-color: #eae6f1;\n",
       "  color: #000000;\n",
       "}\n",
       "#T_6c54b_row4_col9, #T_6c54b_row8_col7 {\n",
       "  background-color: #f1ebf4;\n",
       "  color: #000000;\n",
       "}\n",
       "#T_6c54b_row5_col0, #T_6c54b_row7_col9 {\n",
       "  background-color: #dddbec;\n",
       "  color: #000000;\n",
       "}\n",
       "#T_6c54b_row5_col1, #T_6c54b_row7_col8 {\n",
       "  background-color: #f3edf5;\n",
       "  color: #000000;\n",
       "}\n",
       "#T_6c54b_row5_col4 {\n",
       "  background-color: #e5e1ef;\n",
       "  color: #000000;\n",
       "}\n",
       "#T_6c54b_row5_col6, #T_6c54b_row8_col9 {\n",
       "  background-color: #dcdaeb;\n",
       "  color: #000000;\n",
       "}\n",
       "#T_6c54b_row5_col8 {\n",
       "  background-color: #e7e3f0;\n",
       "  color: #000000;\n",
       "}\n",
       "#T_6c54b_row5_col9 {\n",
       "  background-color: #eee9f3;\n",
       "  color: #000000;\n",
       "}\n",
       "#T_6c54b_row6_col2, #T_6c54b_row7_col2 {\n",
       "  background-color: #fef6fb;\n",
       "  color: #000000;\n",
       "}\n",
       "#T_6c54b_row6_col3, #T_6c54b_row8_col4 {\n",
       "  background-color: #e0dded;\n",
       "  color: #000000;\n",
       "}\n",
       "#T_6c54b_row6_col4, #T_6c54b_row7_col4 {\n",
       "  background-color: #f0eaf4;\n",
       "  color: #000000;\n",
       "}\n",
       "#T_6c54b_row6_col7 {\n",
       "  background-color: #4295c3;\n",
       "  color: #f1f1f1;\n",
       "}\n",
       "#T_6c54b_row6_col8 {\n",
       "  background-color: #faf3f9;\n",
       "  color: #000000;\n",
       "}\n",
       "#T_6c54b_row6_col9, #T_6c54b_row9_col4 {\n",
       "  background-color: #dad9ea;\n",
       "  color: #000000;\n",
       "}\n",
       "#T_6c54b_row7_col0 {\n",
       "  background-color: #80aed2;\n",
       "  color: #f1f1f1;\n",
       "}\n",
       "#T_6c54b_row7_col1 {\n",
       "  background-color: #a1bbda;\n",
       "  color: #000000;\n",
       "}\n",
       "#T_6c54b_row7_col3 {\n",
       "  background-color: #cacee5;\n",
       "  color: #000000;\n",
       "}\n",
       "#T_6c54b_row7_col6 {\n",
       "  background-color: #2786bb;\n",
       "  color: #f1f1f1;\n",
       "}\n",
       "#T_6c54b_row8_col0 {\n",
       "  background-color: #b9c6e0;\n",
       "  color: #000000;\n",
       "}\n",
       "#T_6c54b_row8_col1, #T_6c54b_row9_col1, #T_6c54b_row9_col8 {\n",
       "  background-color: #d0d1e6;\n",
       "  color: #000000;\n",
       "}\n",
       "#T_6c54b_row8_col2 {\n",
       "  background-color: #fcf4fa;\n",
       "  color: #000000;\n",
       "}\n",
       "#T_6c54b_row8_col6 {\n",
       "  background-color: #dbdaeb;\n",
       "  color: #000000;\n",
       "}\n",
       "#T_6c54b_row9_col0 {\n",
       "  background-color: #d1d2e6;\n",
       "  color: #000000;\n",
       "}\n",
       "#T_6c54b_row9_col5 {\n",
       "  background-color: #dedcec;\n",
       "  color: #000000;\n",
       "}\n",
       "#T_6c54b_row9_col6 {\n",
       "  background-color: #9fbad9;\n",
       "  color: #000000;\n",
       "}\n",
       "#T_6c54b_row9_col7 {\n",
       "  background-color: #cccfe5;\n",
       "  color: #000000;\n",
       "}\n",
       "</style>\n",
       "<table id=\"T_6c54b\">\n",
       "  <thead>\n",
       "    <tr>\n",
       "      <th class=\"blank level0\" >&nbsp;</th>\n",
       "      <th id=\"T_6c54b_level0_col0\" class=\"col_heading level0 col0\" >id</th>\n",
       "      <th id=\"T_6c54b_level0_col1\" class=\"col_heading level0 col1\" >host_id</th>\n",
       "      <th id=\"T_6c54b_level0_col2\" class=\"col_heading level0 col2\" >latitude</th>\n",
       "      <th id=\"T_6c54b_level0_col3\" class=\"col_heading level0 col3\" >longitude</th>\n",
       "      <th id=\"T_6c54b_level0_col4\" class=\"col_heading level0 col4\" >price</th>\n",
       "      <th id=\"T_6c54b_level0_col5\" class=\"col_heading level0 col5\" >minimum_nights</th>\n",
       "      <th id=\"T_6c54b_level0_col6\" class=\"col_heading level0 col6\" >number_of_reviews</th>\n",
       "      <th id=\"T_6c54b_level0_col7\" class=\"col_heading level0 col7\" >reviews_per_month</th>\n",
       "      <th id=\"T_6c54b_level0_col8\" class=\"col_heading level0 col8\" >calculated_host_listings_count</th>\n",
       "      <th id=\"T_6c54b_level0_col9\" class=\"col_heading level0 col9\" >availability_365</th>\n",
       "    </tr>\n",
       "  </thead>\n",
       "  <tbody>\n",
       "    <tr>\n",
       "      <th id=\"T_6c54b_level0_row0\" class=\"row_heading level0 row0\" >id</th>\n",
       "      <td id=\"T_6c54b_row0_col0\" class=\"data row0 col0\" >1.000000</td>\n",
       "      <td id=\"T_6c54b_row0_col1\" class=\"data row0 col1\" >0.591011</td>\n",
       "      <td id=\"T_6c54b_row0_col2\" class=\"data row0 col2\" >-0.007955</td>\n",
       "      <td id=\"T_6c54b_row0_col3\" class=\"data row0 col3\" >0.103214</td>\n",
       "      <td id=\"T_6c54b_row0_col4\" class=\"data row0 col4\" >-0.011728</td>\n",
       "      <td id=\"T_6c54b_row0_col5\" class=\"data row0 col5\" >-0.073034</td>\n",
       "      <td id=\"T_6c54b_row0_col6\" class=\"data row0 col6\" >-0.329117</td>\n",
       "      <td id=\"T_6c54b_row0_col7\" class=\"data row0 col7\" >0.296995</td>\n",
       "      <td id=\"T_6c54b_row0_col8\" class=\"data row0 col8\" >0.095700</td>\n",
       "      <td id=\"T_6c54b_row0_col9\" class=\"data row0 col9\" >0.000031</td>\n",
       "    </tr>\n",
       "    <tr>\n",
       "      <th id=\"T_6c54b_level0_row1\" class=\"row_heading level0 row1\" >host_id</th>\n",
       "      <td id=\"T_6c54b_row1_col0\" class=\"data row1 col0\" >0.591011</td>\n",
       "      <td id=\"T_6c54b_row1_col1\" class=\"data row1 col1\" >1.000000</td>\n",
       "      <td id=\"T_6c54b_row1_col2\" class=\"data row1 col2\" >0.010383</td>\n",
       "      <td id=\"T_6c54b_row1_col3\" class=\"data row1 col3\" >0.138363</td>\n",
       "      <td id=\"T_6c54b_row1_col4\" class=\"data row1 col4\" >0.002976</td>\n",
       "      <td id=\"T_6c54b_row1_col5\" class=\"data row1 col5\" >-0.051107</td>\n",
       "      <td id=\"T_6c54b_row1_col6\" class=\"data row1 col6\" >-0.140275</td>\n",
       "      <td id=\"T_6c54b_row1_col7\" class=\"data row1 col7\" >0.302014</td>\n",
       "      <td id=\"T_6c54b_row1_col8\" class=\"data row1 col8\" >0.148645</td>\n",
       "      <td id=\"T_6c54b_row1_col9\" class=\"data row1 col9\" >0.147326</td>\n",
       "    </tr>\n",
       "    <tr>\n",
       "      <th id=\"T_6c54b_level0_row2\" class=\"row_heading level0 row2\" >latitude</th>\n",
       "      <td id=\"T_6c54b_row2_col0\" class=\"data row2 col0\" >-0.007955</td>\n",
       "      <td id=\"T_6c54b_row2_col1\" class=\"data row2 col1\" >0.010383</td>\n",
       "      <td id=\"T_6c54b_row2_col2\" class=\"data row2 col2\" >1.000000</td>\n",
       "      <td id=\"T_6c54b_row2_col3\" class=\"data row2 col3\" >0.090698</td>\n",
       "      <td id=\"T_6c54b_row2_col4\" class=\"data row2 col4\" >0.029390</td>\n",
       "      <td id=\"T_6c54b_row2_col5\" class=\"data row2 col5\" >0.026351</td>\n",
       "      <td id=\"T_6c54b_row2_col6\" class=\"data row2 col6\" >-0.010910</td>\n",
       "      <td id=\"T_6c54b_row2_col7\" class=\"data row2 col7\" >-0.010735</td>\n",
       "      <td id=\"T_6c54b_row2_col8\" class=\"data row2 col8\" >0.002332</td>\n",
       "      <td id=\"T_6c54b_row2_col9\" class=\"data row2 col9\" >-0.017927</td>\n",
       "    </tr>\n",
       "    <tr>\n",
       "      <th id=\"T_6c54b_level0_row3\" class=\"row_heading level0 row3\" >longitude</th>\n",
       "      <td id=\"T_6c54b_row3_col0\" class=\"data row3 col0\" >0.103214</td>\n",
       "      <td id=\"T_6c54b_row3_col1\" class=\"data row3 col1\" >0.138363</td>\n",
       "      <td id=\"T_6c54b_row3_col2\" class=\"data row3 col2\" >0.090698</td>\n",
       "      <td id=\"T_6c54b_row3_col3\" class=\"data row3 col3\" >1.000000</td>\n",
       "      <td id=\"T_6c54b_row3_col4\" class=\"data row3 col4\" >-0.156566</td>\n",
       "      <td id=\"T_6c54b_row3_col5\" class=\"data row3 col5\" >-0.050557</td>\n",
       "      <td id=\"T_6c54b_row3_col6\" class=\"data row3 col6\" >0.053667</td>\n",
       "      <td id=\"T_6c54b_row3_col7\" class=\"data row3 col7\" >0.151511</td>\n",
       "      <td id=\"T_6c54b_row3_col8\" class=\"data row3 col8\" >-0.094229</td>\n",
       "      <td id=\"T_6c54b_row3_col9\" class=\"data row3 col9\" >0.105214</td>\n",
       "    </tr>\n",
       "    <tr>\n",
       "      <th id=\"T_6c54b_level0_row4\" class=\"row_heading level0 row4\" >price</th>\n",
       "      <td id=\"T_6c54b_row4_col0\" class=\"data row4 col0\" >-0.011728</td>\n",
       "      <td id=\"T_6c54b_row4_col1\" class=\"data row4 col1\" >0.002976</td>\n",
       "      <td id=\"T_6c54b_row4_col2\" class=\"data row4 col2\" >0.029390</td>\n",
       "      <td id=\"T_6c54b_row4_col3\" class=\"data row4 col3\" >-0.156566</td>\n",
       "      <td id=\"T_6c54b_row4_col4\" class=\"data row4 col4\" >1.000000</td>\n",
       "      <td id=\"T_6c54b_row4_col5\" class=\"data row4 col5\" >0.028225</td>\n",
       "      <td id=\"T_6c54b_row4_col6\" class=\"data row4 col6\" >-0.036525</td>\n",
       "      <td id=\"T_6c54b_row4_col7\" class=\"data row4 col7\" >-0.037279</td>\n",
       "      <td id=\"T_6c54b_row4_col8\" class=\"data row4 col8\" >0.054206</td>\n",
       "      <td id=\"T_6c54b_row4_col9\" class=\"data row4 col9\" >0.079026</td>\n",
       "    </tr>\n",
       "    <tr>\n",
       "      <th id=\"T_6c54b_level0_row5\" class=\"row_heading level0 row5\" >minimum_nights</th>\n",
       "      <td id=\"T_6c54b_row5_col0\" class=\"data row5 col0\" >-0.073034</td>\n",
       "      <td id=\"T_6c54b_row5_col1\" class=\"data row5 col1\" >-0.051107</td>\n",
       "      <td id=\"T_6c54b_row5_col2\" class=\"data row5 col2\" >0.026351</td>\n",
       "      <td id=\"T_6c54b_row5_col3\" class=\"data row5 col3\" >-0.050557</td>\n",
       "      <td id=\"T_6c54b_row5_col4\" class=\"data row5 col4\" >0.028225</td>\n",
       "      <td id=\"T_6c54b_row5_col5\" class=\"data row5 col5\" >1.000000</td>\n",
       "      <td id=\"T_6c54b_row5_col6\" class=\"data row5 col6\" >-0.064675</td>\n",
       "      <td id=\"T_6c54b_row5_col7\" class=\"data row5 col7\" >-0.115135</td>\n",
       "      <td id=\"T_6c54b_row5_col8\" class=\"data row5 col8\" >0.064402</td>\n",
       "      <td id=\"T_6c54b_row5_col9\" class=\"data row5 col9\" >0.095879</td>\n",
       "    </tr>\n",
       "    <tr>\n",
       "      <th id=\"T_6c54b_level0_row6\" class=\"row_heading level0 row6\" >number_of_reviews</th>\n",
       "      <td id=\"T_6c54b_row6_col0\" class=\"data row6 col0\" >-0.329117</td>\n",
       "      <td id=\"T_6c54b_row6_col1\" class=\"data row6 col1\" >-0.140275</td>\n",
       "      <td id=\"T_6c54b_row6_col2\" class=\"data row6 col2\" >-0.010910</td>\n",
       "      <td id=\"T_6c54b_row6_col3\" class=\"data row6 col3\" >0.053667</td>\n",
       "      <td id=\"T_6c54b_row6_col4\" class=\"data row6 col4\" >-0.036525</td>\n",
       "      <td id=\"T_6c54b_row6_col5\" class=\"data row6 col5\" >-0.064675</td>\n",
       "      <td id=\"T_6c54b_row6_col6\" class=\"data row6 col6\" >1.000000</td>\n",
       "      <td id=\"T_6c54b_row6_col7\" class=\"data row6 col7\" >0.551890</td>\n",
       "      <td id=\"T_6c54b_row6_col8\" class=\"data row6 col8\" >-0.059204</td>\n",
       "      <td id=\"T_6c54b_row6_col9\" class=\"data row6 col9\" >0.192000</td>\n",
       "    </tr>\n",
       "    <tr>\n",
       "      <th id=\"T_6c54b_level0_row7\" class=\"row_heading level0 row7\" >reviews_per_month</th>\n",
       "      <td id=\"T_6c54b_row7_col0\" class=\"data row7 col0\" >0.296995</td>\n",
       "      <td id=\"T_6c54b_row7_col1\" class=\"data row7 col1\" >0.302014</td>\n",
       "      <td id=\"T_6c54b_row7_col2\" class=\"data row7 col2\" >-0.010735</td>\n",
       "      <td id=\"T_6c54b_row7_col3\" class=\"data row7 col3\" >0.151511</td>\n",
       "      <td id=\"T_6c54b_row7_col4\" class=\"data row7 col4\" >-0.037279</td>\n",
       "      <td id=\"T_6c54b_row7_col5\" class=\"data row7 col5\" >-0.115135</td>\n",
       "      <td id=\"T_6c54b_row7_col6\" class=\"data row7 col6\" >0.551890</td>\n",
       "      <td id=\"T_6c54b_row7_col7\" class=\"data row7 col7\" >1.000000</td>\n",
       "      <td id=\"T_6c54b_row7_col8\" class=\"data row7 col8\" >-0.008598</td>\n",
       "      <td id=\"T_6c54b_row7_col9\" class=\"data row7 col9\" >0.178697</td>\n",
       "    </tr>\n",
       "    <tr>\n",
       "      <th id=\"T_6c54b_level0_row8\" class=\"row_heading level0 row8\" >calculated_host_listings_count</th>\n",
       "      <td id=\"T_6c54b_row8_col0\" class=\"data row8 col0\" >0.095700</td>\n",
       "      <td id=\"T_6c54b_row8_col1\" class=\"data row8 col1\" >0.148645</td>\n",
       "      <td id=\"T_6c54b_row8_col2\" class=\"data row8 col2\" >0.002332</td>\n",
       "      <td id=\"T_6c54b_row8_col3\" class=\"data row8 col3\" >-0.094229</td>\n",
       "      <td id=\"T_6c54b_row8_col4\" class=\"data row8 col4\" >0.054206</td>\n",
       "      <td id=\"T_6c54b_row8_col5\" class=\"data row8 col5\" >0.064402</td>\n",
       "      <td id=\"T_6c54b_row8_col6\" class=\"data row8 col6\" >-0.059204</td>\n",
       "      <td id=\"T_6c54b_row8_col7\" class=\"data row8 col7\" >-0.008598</td>\n",
       "      <td id=\"T_6c54b_row8_col8\" class=\"data row8 col8\" >1.000000</td>\n",
       "      <td id=\"T_6c54b_row8_col9\" class=\"data row8 col9\" >0.183518</td>\n",
       "    </tr>\n",
       "    <tr>\n",
       "      <th id=\"T_6c54b_level0_row9\" class=\"row_heading level0 row9\" >availability_365</th>\n",
       "      <td id=\"T_6c54b_row9_col0\" class=\"data row9 col0\" >0.000031</td>\n",
       "      <td id=\"T_6c54b_row9_col1\" class=\"data row9 col1\" >0.147326</td>\n",
       "      <td id=\"T_6c54b_row9_col2\" class=\"data row9 col2\" >-0.017927</td>\n",
       "      <td id=\"T_6c54b_row9_col3\" class=\"data row9 col3\" >0.105214</td>\n",
       "      <td id=\"T_6c54b_row9_col4\" class=\"data row9 col4\" >0.079026</td>\n",
       "      <td id=\"T_6c54b_row9_col5\" class=\"data row9 col5\" >0.095879</td>\n",
       "      <td id=\"T_6c54b_row9_col6\" class=\"data row9 col6\" >0.192000</td>\n",
       "      <td id=\"T_6c54b_row9_col7\" class=\"data row9 col7\" >0.178697</td>\n",
       "      <td id=\"T_6c54b_row9_col8\" class=\"data row9 col8\" >0.183518</td>\n",
       "      <td id=\"T_6c54b_row9_col9\" class=\"data row9 col9\" >1.000000</td>\n",
       "    </tr>\n",
       "  </tbody>\n",
       "</table>\n"
      ],
      "text/plain": [
       "<pandas.io.formats.style.Styler at 0x148d0a5f0>"
      ]
     },
     "execution_count": 11,
     "metadata": {},
     "output_type": "execute_result"
    }
   ],
   "source": [
    "train_df[numeric_features].corr('pearson').style.background_gradient()"
   ]
  },
  {
   "cell_type": "markdown",
   "metadata": {},
   "source": [
    "We see that the feature `number_of_reviews` is has high positive linearity with the target `reviews_per_month` meaning they have a strong linear relationship. This means Linear models may be useful for this prediction problem.\n",
    "\n",
    "Let's take a look at the distributions of these features:"
   ]
  },
  {
   "cell_type": "code",
   "execution_count": 12,
   "metadata": {},
   "outputs": [
    {
     "data": {
      "application/vnd.vegalite.v4+json": {
       "$schema": "https://vega.github.io/schema/vega-lite/v4.17.0.json",
       "config": {
        "view": {
         "continuousHeight": 300,
         "continuousWidth": 400
        }
       },
       "data": {
        "url": "http://localhost:58135/dba5fccbb5f623569b95b69d7348796b.json"
       },
       "hconcat": [
        {
         "vconcat": [
          {
           "encoding": {
            "x": {
             "field": "host_id",
             "type": "quantitative"
            },
            "y": {
             "field": "density",
             "type": "quantitative"
            }
           },
           "height": 150,
           "mark": "area",
           "transform": [
            {
             "as": [
              "host_id",
              "density"
             ],
             "density": "host_id"
            }
           ],
           "width": 250
          },
          {
           "encoding": {
            "x": {
             "field": "longitude",
             "type": "quantitative"
            },
            "y": {
             "field": "density",
             "type": "quantitative"
            }
           },
           "height": 150,
           "mark": "area",
           "transform": [
            {
             "as": [
              "longitude",
              "density"
             ],
             "density": "longitude"
            }
           ],
           "width": 250
          },
          {
           "encoding": {
            "x": {
             "field": "minimum_nights",
             "type": "quantitative"
            },
            "y": {
             "field": "density",
             "type": "quantitative"
            }
           },
           "height": 150,
           "mark": "area",
           "transform": [
            {
             "as": [
              "minimum_nights",
              "density"
             ],
             "density": "minimum_nights"
            }
           ],
           "width": 250
          },
          {
           "encoding": {
            "x": {
             "field": "reviews_per_month",
             "type": "quantitative"
            },
            "y": {
             "field": "density",
             "type": "quantitative"
            }
           },
           "height": 150,
           "mark": "area",
           "transform": [
            {
             "as": [
              "reviews_per_month",
              "density"
             ],
             "density": "reviews_per_month"
            }
           ],
           "width": 250
          },
          {
           "encoding": {
            "x": {
             "field": "availability_365",
             "type": "quantitative"
            },
            "y": {
             "field": "density",
             "type": "quantitative"
            }
           },
           "height": 150,
           "mark": "area",
           "transform": [
            {
             "as": [
              "availability_365",
              "density"
             ],
             "density": "availability_365"
            }
           ],
           "width": 250
          }
         ]
        },
        {
         "vconcat": [
          {
           "encoding": {
            "x": {
             "field": "id",
             "type": "quantitative"
            },
            "y": {
             "field": "density",
             "type": "quantitative"
            }
           },
           "height": 150,
           "mark": "area",
           "transform": [
            {
             "as": [
              "id",
              "density"
             ],
             "density": "id"
            }
           ],
           "width": 250
          },
          {
           "encoding": {
            "x": {
             "field": "latitude",
             "type": "quantitative"
            },
            "y": {
             "field": "density",
             "type": "quantitative"
            }
           },
           "height": 150,
           "mark": "area",
           "transform": [
            {
             "as": [
              "latitude",
              "density"
             ],
             "density": "latitude"
            }
           ],
           "width": 250
          },
          {
           "encoding": {
            "x": {
             "field": "price",
             "type": "quantitative"
            },
            "y": {
             "field": "density",
             "type": "quantitative"
            }
           },
           "height": 150,
           "mark": "area",
           "transform": [
            {
             "as": [
              "price",
              "density"
             ],
             "density": "price"
            }
           ],
           "width": 250
          },
          {
           "encoding": {
            "x": {
             "field": "number_of_reviews",
             "type": "quantitative"
            },
            "y": {
             "field": "density",
             "type": "quantitative"
            }
           },
           "height": 150,
           "mark": "area",
           "transform": [
            {
             "as": [
              "number_of_reviews",
              "density"
             ],
             "density": "number_of_reviews"
            }
           ],
           "width": 250
          },
          {
           "encoding": {
            "x": {
             "field": "calculated_host_listings_count",
             "type": "quantitative"
            },
            "y": {
             "field": "density",
             "type": "quantitative"
            }
           },
           "height": 150,
           "mark": "area",
           "transform": [
            {
             "as": [
              "calculated_host_listings_count",
              "density"
             ],
             "density": "calculated_host_listings_count"
            }
           ],
           "width": 250
          }
         ]
        }
       ]
      },
      "text/plain": [
       "<VegaLite 4 object>\n",
       "\n",
       "If you see this message, it means the renderer has not been properly enabled\n",
       "for the frontend that you are using. For more information, see\n",
       "https://altair-viz.github.io/user_guide/troubleshooting.html\n"
      ]
     },
     "execution_count": 12,
     "metadata": {},
     "output_type": "execute_result"
    }
   ],
   "source": [
    "charts = []\n",
    "even_chart = None\n",
    "odd_chart = None\n",
    "\n",
    "for count, column in enumerate(numeric_features):\n",
    "    temp = alt.Chart(train_df).transform_density(\n",
    "        column,\n",
    "        as_=[column, 'density']\n",
    "    ).mark_area().encode(\n",
    "        alt.X(column, type='quantitative'),\n",
    "        alt.Y('density:Q')\n",
    "    ).properties(\n",
    "        height=150,\n",
    "        width=250\n",
    "    )\n",
    "    if count%2:\n",
    "        if odd_chart != None:\n",
    "            odd_chart = odd_chart & temp\n",
    "        else:\n",
    "            odd_chart = temp\n",
    "    else:\n",
    "        if even_chart != None:\n",
    "            even_chart = even_chart & temp\n",
    "        else:\n",
    "            even_chart = temp\n",
    "\n",
    "odd_chart | even_chart"
   ]
  },
  {
   "cell_type": "code",
   "execution_count": 13,
   "metadata": {},
   "outputs": [
    {
     "data": {
      "application/vnd.vegalite.v4+json": {
       "$schema": "https://vega.github.io/schema/vega-lite/v4.17.0.json",
       "config": {
        "view": {
         "continuousHeight": 300,
         "continuousWidth": 400
        }
       },
       "data": {
        "url": "http://localhost:58135/e0f94a51d70a74075abcebdf900274ce.json"
       },
       "encoding": {
        "color": {
         "field": "reviews_per_month",
         "scale": {
          "scheme": "oranges"
         },
         "type": "quantitative"
        },
        "x": {
         "bin": {
          "maxbins": 60
         },
         "field": "longitude",
         "type": "quantitative"
        },
        "y": {
         "bin": {
          "maxbins": 60
         },
         "field": "latitude",
         "type": "quantitative"
        }
       },
       "mark": {
        "opacity": 0.5,
        "type": "rect"
       }
      },
      "text/plain": [
       "<VegaLite 4 object>\n",
       "\n",
       "If you see this message, it means the renderer has not been properly enabled\n",
       "for the frontend that you are using. For more information, see\n",
       "https://altair-viz.github.io/user_guide/troubleshooting.html\n"
      ]
     },
     "execution_count": 13,
     "metadata": {},
     "output_type": "execute_result"
    }
   ],
   "source": [
    "alt.Chart(data).mark_rect(opacity = 0.5).encode(\n",
    "    alt.X('longitude', bin=alt.Bin(maxbins=60)),\n",
    "    alt.Y('latitude', bin=alt.Bin(maxbins=60)),\n",
    "    alt.Color('reviews_per_month',scale=alt.Scale(scheme = 'oranges')))"
   ]
  },
  {
   "cell_type": "code",
   "execution_count": 14,
   "metadata": {},
   "outputs": [
    {
     "data": {
      "application/vnd.vegalite.v4+json": {
       "$schema": "https://vega.github.io/schema/vega-lite/v4.17.0.json",
       "config": {
        "view": {
         "continuousHeight": 300,
         "continuousWidth": 400
        }
       },
       "hconcat": [
        {
         "vconcat": [
          {
           "data": {
            "url": "http://localhost:58135/0f4b3cd3688e16e0d752ecced901bc9d.json"
           },
           "encoding": {
            "x": {
             "field": "minimum_nights",
             "type": "quantitative"
            },
            "y": {
             "field": "density",
             "type": "quantitative"
            }
           },
           "height": 150,
           "mark": "area",
           "transform": [
            {
             "as": [
              "minimum_nights",
              "density"
             ],
             "density": "minimum_nights"
            }
           ],
           "width": 250
          },
          {
           "data": {
            "url": "http://localhost:58135/0f4b3cd3688e16e0d752ecced901bc9d.json"
           },
           "encoding": {
            "x": {
             "field": "calculated_host_listings_count",
             "type": "quantitative"
            },
            "y": {
             "field": "density",
             "type": "quantitative"
            }
           },
           "height": 150,
           "mark": "area",
           "transform": [
            {
             "as": [
              "calculated_host_listings_count",
              "density"
             ],
             "density": "calculated_host_listings_count"
            }
           ],
           "width": 250
          }
         ]
        },
        {
         "vconcat": [
          {
           "data": {
            "url": "http://localhost:58135/0f4b3cd3688e16e0d752ecced901bc9d.json"
           },
           "encoding": {
            "x": {
             "field": "price",
             "type": "quantitative"
            },
            "y": {
             "field": "density",
             "type": "quantitative"
            }
           },
           "height": 150,
           "mark": "area",
           "transform": [
            {
             "as": [
              "price",
              "density"
             ],
             "density": "price"
            }
           ],
           "width": 250
          },
          {
           "data": {
            "url": "http://localhost:58135/0f4b3cd3688e16e0d752ecced901bc9d.json"
           },
           "encoding": {
            "x": {
             "field": "number_of_reviews",
             "type": "quantitative"
            },
            "y": {
             "field": "density",
             "type": "quantitative"
            }
           },
           "height": 150,
           "mark": "area",
           "transform": [
            {
             "as": [
              "number_of_reviews",
              "density"
             ],
             "density": "number_of_reviews"
            }
           ],
           "width": 250
          },
          {
           "data": {
            "url": "http://localhost:58135/0f4b3cd3688e16e0d752ecced901bc9d.json"
           },
           "encoding": {
            "x": {
             "field": "availability_365",
             "type": "quantitative"
            },
            "y": {
             "field": "density",
             "type": "quantitative"
            }
           },
           "height": 150,
           "mark": "area",
           "transform": [
            {
             "as": [
              "availability_365",
              "density"
             ],
             "density": "availability_365"
            }
           ],
           "width": 250
          }
         ]
        }
       ]
      },
      "text/plain": [
       "<VegaLite 4 object>\n",
       "\n",
       "If you see this message, it means the renderer has not been properly enabled\n",
       "for the frontend that you are using. For more information, see\n",
       "https://altair-viz.github.io/user_guide/troubleshooting.html\n"
      ]
     },
     "execution_count": 14,
     "metadata": {},
     "output_type": "execute_result"
    }
   ],
   "source": [
    "log_numerical_features = ['price', 'minimum_nights', 'number_of_reviews', 'calculated_host_listings_count', 'availability_365']\n",
    "charts = []\n",
    "even_chart = None\n",
    "odd_chart = None\n",
    "\n",
    "for count, column in enumerate(log_numerical_features):\n",
    "    temp = alt.Chart(train_df[log_numerical_features].apply(np.log)).transform_density(\n",
    "        column,\n",
    "        as_=[column, 'density']\n",
    "    ).mark_area().encode(\n",
    "        alt.X(column, type='quantitative'),\n",
    "        alt.Y('density:Q')\n",
    "    ).properties(\n",
    "        height=150,\n",
    "        width=250\n",
    "    )\n",
    "    if count%2:\n",
    "        if odd_chart != None:\n",
    "            odd_chart = odd_chart & temp\n",
    "        else:\n",
    "            odd_chart = temp\n",
    "    else:\n",
    "        if even_chart != None:\n",
    "            even_chart = even_chart & temp\n",
    "        else:\n",
    "            even_chart = temp\n",
    "\n",
    "odd_chart | even_chart"
   ]
  },
  {
   "cell_type": "markdown",
   "metadata": {},
   "source": [
    "## Exporing Categorical Features\n",
    "---\n",
    "\n",
    "Here, we look at bar charts of the different categories to see their distributions.\n",
    "\n",
    "Taking a look at the unique counts of all non-numeric data, it seems like its not a good idea to look at all the different categories of the different variables since some of the features have thousands of various unique values. so we will look at each column selectively.\n",
    "\n",
    "- For `neighbourhood_group` and `room_type`, we can do it traditionally by plotting a simple bar chart\n",
    "- `last_review` is actually of type `date` and we can hence ignore it in this section\n",
    "- `name` is all unique values and so we will not look at those at all as they do not seem important to the prediction problem\n",
    "- `neighbourhood` can be grouped into different `neighbourhood_group` so we can use a faceted chart to see the distribution within each group\n",
    "- `host_name` looks like it may be categorical but we do not want our model to potentially have a bias in it because of the name of a person and predict lower or higher based on names."
   ]
  },
  {
   "cell_type": "code",
   "execution_count": 15,
   "metadata": {},
   "outputs": [
    {
     "data": {
      "text/html": [
       "<div>\n",
       "<style scoped>\n",
       "    .dataframe tbody tr th:only-of-type {\n",
       "        vertical-align: middle;\n",
       "    }\n",
       "\n",
       "    .dataframe tbody tr th {\n",
       "        vertical-align: top;\n",
       "    }\n",
       "\n",
       "    .dataframe thead th {\n",
       "        text-align: right;\n",
       "    }\n",
       "</style>\n",
       "<table border=\"1\" class=\"dataframe\">\n",
       "  <thead>\n",
       "    <tr style=\"text-align: right;\">\n",
       "      <th></th>\n",
       "      <th>columns</th>\n",
       "      <th>valid_count</th>\n",
       "      <th>unique_count</th>\n",
       "    </tr>\n",
       "  </thead>\n",
       "  <tbody>\n",
       "    <tr>\n",
       "      <th>0</th>\n",
       "      <td>name</td>\n",
       "      <td>27174</td>\n",
       "      <td>26859</td>\n",
       "    </tr>\n",
       "    <tr>\n",
       "      <th>1</th>\n",
       "      <td>host_name</td>\n",
       "      <td>27174</td>\n",
       "      <td>7947</td>\n",
       "    </tr>\n",
       "    <tr>\n",
       "      <th>2</th>\n",
       "      <td>neighbourhood_group</td>\n",
       "      <td>27174</td>\n",
       "      <td>5</td>\n",
       "    </tr>\n",
       "    <tr>\n",
       "      <th>3</th>\n",
       "      <td>neighbourhood</td>\n",
       "      <td>27174</td>\n",
       "      <td>215</td>\n",
       "    </tr>\n",
       "    <tr>\n",
       "      <th>4</th>\n",
       "      <td>room_type</td>\n",
       "      <td>27174</td>\n",
       "      <td>3</td>\n",
       "    </tr>\n",
       "    <tr>\n",
       "      <th>5</th>\n",
       "      <td>last_review</td>\n",
       "      <td>27174</td>\n",
       "      <td>1668</td>\n",
       "    </tr>\n",
       "  </tbody>\n",
       "</table>\n",
       "</div>"
      ],
      "text/plain": [
       "               columns  valid_count  unique_count\n",
       "0                 name        27174         26859\n",
       "1            host_name        27174          7947\n",
       "2  neighbourhood_group        27174             5\n",
       "3        neighbourhood        27174           215\n",
       "4            room_type        27174             3\n",
       "5          last_review        27174          1668"
      ]
     },
     "execution_count": 15,
     "metadata": {},
     "output_type": "execute_result"
    }
   ],
   "source": [
    "categorical_features = data.select_dtypes(exclude='number').columns.tolist()\n",
    "categorical_train_df = train_df.loc[:, categorical_features]\n",
    "\n",
    "unique_count = pd.DataFrame()\n",
    "unique_count['columns'] = categorical_train_df.columns\n",
    "unique_count['valid_count'] = categorical_train_df.count(axis=0).reset_index()[0]\n",
    "unique_count['unique_count'] = categorical_train_df.nunique().reset_index()[0]\n",
    "unique_count"
   ]
  },
  {
   "cell_type": "code",
   "execution_count": 16,
   "metadata": {},
   "outputs": [
    {
     "data": {
      "application/vnd.vegalite.v4+json": {
       "$schema": "https://vega.github.io/schema/vega-lite/v4.17.0.json",
       "columns": 1,
       "config": {
        "view": {
         "continuousHeight": 300,
         "continuousWidth": 400
        }
       },
       "repeat": [
        "neighbourhood_group",
        "room_type"
       ],
       "spec": {
        "data": {
         "url": "http://localhost:58135/e0f94a51d70a74075abcebdf900274ce.json"
        },
        "encoding": {
         "x": {
          "field": {
           "repeat": "repeat"
          },
          "type": "ordinal"
         },
         "y": {
          "aggregate": "count",
          "stack": false,
          "type": "quantitative"
         }
        },
        "height": 150,
        "mark": {
         "opacity": 0.7,
         "type": "bar"
        },
        "width": 600
       }
      },
      "text/plain": [
       "<VegaLite 4 object>\n",
       "\n",
       "If you see this message, it means the renderer has not been properly enabled\n",
       "for the frontend that you are using. For more information, see\n",
       "https://altair-viz.github.io/user_guide/troubleshooting.html\n"
      ]
     },
     "execution_count": 16,
     "metadata": {},
     "output_type": "execute_result"
    }
   ],
   "source": [
    "alt.Chart(data).mark_bar(opacity=0.7).encode(\n",
    "    alt.X(alt.repeat(), type='ordinal'),\n",
    "    alt.Y('count()', stack=False)).properties(height=150,width=600).repeat(\n",
    "    ['neighbourhood_group', 'room_type'],\n",
    "    columns=1\n",
    ")"
   ]
  },
  {
   "cell_type": "code",
   "execution_count": 17,
   "metadata": {},
   "outputs": [
    {
     "data": {
      "application/vnd.vegalite.v4+json": {
       "$schema": "https://vega.github.io/schema/vega-lite/v4.17.0.json",
       "config": {
        "view": {
         "continuousHeight": 300,
         "continuousWidth": 400
        }
       },
       "vconcat": [
        {
         "data": {
          "url": "http://localhost:58135/e1c8a420c25f3144263a5b6eb0b9be16.json"
         },
         "encoding": {
          "x": {
           "aggregate": "count",
           "stack": false,
           "type": "quantitative"
          },
          "y": {
           "field": "neighbourhood",
           "sort": "x",
           "type": "ordinal"
          }
         },
         "mark": {
          "opacity": 0.7,
          "type": "bar"
         }
        },
        {
         "data": {
          "url": "http://localhost:58135/e3e51727824e8fbf804e192898ecae7c.json"
         },
         "encoding": {
          "x": {
           "aggregate": "count",
           "stack": false,
           "type": "quantitative"
          },
          "y": {
           "field": "neighbourhood",
           "sort": "x",
           "type": "ordinal"
          }
         },
         "mark": {
          "opacity": 0.7,
          "type": "bar"
         }
        },
        {
         "data": {
          "url": "http://localhost:58135/5bb42ec796f942084942a3470acdb26f.json"
         },
         "encoding": {
          "x": {
           "aggregate": "count",
           "stack": false,
           "type": "quantitative"
          },
          "y": {
           "field": "neighbourhood",
           "sort": "x",
           "type": "ordinal"
          }
         },
         "mark": {
          "opacity": 0.7,
          "type": "bar"
         }
        },
        {
         "data": {
          "url": "http://localhost:58135/3b85ce2a416b9014bcc622a70a68926d.json"
         },
         "encoding": {
          "x": {
           "aggregate": "count",
           "stack": false,
           "type": "quantitative"
          },
          "y": {
           "field": "neighbourhood",
           "sort": "x",
           "type": "ordinal"
          }
         },
         "mark": {
          "opacity": 0.7,
          "type": "bar"
         }
        },
        {
         "data": {
          "url": "http://localhost:58135/a068e8c6d8ab25c7929d03d38b37f7b0.json"
         },
         "encoding": {
          "x": {
           "aggregate": "count",
           "stack": false,
           "type": "quantitative"
          },
          "y": {
           "field": "neighbourhood",
           "sort": "x",
           "type": "ordinal"
          }
         },
         "mark": {
          "opacity": 0.7,
          "type": "bar"
         }
        }
       ]
      },
      "text/plain": [
       "<VegaLite 4 object>\n",
       "\n",
       "If you see this message, it means the renderer has not been properly enabled\n",
       "for the frontend that you are using. For more information, see\n",
       "https://altair-viz.github.io/user_guide/troubleshooting.html\n"
      ]
     },
     "execution_count": 17,
     "metadata": {},
     "output_type": "execute_result"
    }
   ],
   "source": [
    "cat_charts = []\n",
    "\n",
    "for column in data['neighbourhood_group'].unique():\n",
    "    temp = alt.Chart(data[data['neighbourhood_group'] == column]).mark_bar(opacity=0.7).encode(\n",
    "        alt.X('count()',stack = False),\n",
    "        alt.Y('neighbourhood', type = 'ordinal', sort='x')\n",
    "    )\n",
    "    cat_charts.append(temp)\n",
    "\n",
    "alt.vconcat(*cat_charts)"
   ]
  },
  {
   "cell_type": "markdown",
   "metadata": {},
   "source": [
    "<!-- END QUESTION -->\n",
    "\n",
    "<!-- BEGIN QUESTION -->\n",
    "\n",
    "<div class=\"alert alert-warning\">\n",
    "\n",
    "## 4. Feature engineering (Challenging)\n",
    "rubric={reasoning}\n",
    "\n",
    "**Your tasks:**\n",
    "\n",
    "1. Carry out feature engineering. In other words, extract new features relevant for the problem and work with your new feature set in the following exercises. You may have to go back and forth between feature engineering and preprocessing.\n",
    "    \n",
    "</div>\n",
    "\n",
    "_Points:_ 0.5"
   ]
  },
  {
   "cell_type": "markdown",
   "metadata": {},
   "source": [
    "## Feature engineering\n",
    "---\n",
    "\n",
    "the `last_review` feature is a `date` type feature. We can extract the 'age' of the review as it could be quite a helpful feature for our model to learn.\n",
    "We will have to do this both the train as well as test data since we happened to perform splitting before the Feature engineering section. We also take a quick look at the distribution of this new feature to see whether we require some kind of transformation to be applied to it."
   ]
  },
  {
   "cell_type": "code",
   "execution_count": 18,
   "metadata": {
    "tags": []
   },
   "outputs": [
    {
     "data": {
      "application/vnd.vegalite.v4+json": {
       "$schema": "https://vega.github.io/schema/vega-lite/v4.17.0.json",
       "config": {
        "view": {
         "continuousHeight": 300,
         "continuousWidth": 400
        }
       },
       "hconcat": [
        {
         "data": {
          "url": "http://localhost:58135/be77523b0f3a5ed45a747e495e3fd689.json"
         },
         "encoding": {
          "x": {
           "field": "days_since_last_review",
           "type": "quantitative"
          },
          "y": {
           "field": "density",
           "type": "quantitative"
          }
         },
         "mark": "area",
         "title": "Distribution of days since last review",
         "transform": [
          {
           "as": [
            "days_since_last_review",
            "density"
           ],
           "density": "days_since_last_review"
          }
         ]
        },
        {
         "data": {
          "url": "http://localhost:58135/2fa5ee58519bf1f20cdf6343acf3edb9.json"
         },
         "encoding": {
          "x": {
           "field": "days_since_last_review",
           "type": "quantitative"
          },
          "y": {
           "field": "density",
           "type": "quantitative"
          }
         },
         "mark": "area",
         "title": "Log Distribution of days since last review",
         "transform": [
          {
           "as": [
            "days_since_last_review",
            "density"
           ],
           "density": "days_since_last_review"
          }
         ]
        }
       ]
      },
      "text/plain": [
       "<VegaLite 4 object>\n",
       "\n",
       "If you see this message, it means the renderer has not been properly enabled\n",
       "for the frontend that you are using. For more information, see\n",
       "https://altair-viz.github.io/user_guide/troubleshooting.html\n"
      ]
     },
     "execution_count": 18,
     "metadata": {},
     "output_type": "execute_result"
    }
   ],
   "source": [
    "train_df['days_since_last_review'] = (pd.Timestamp.now().normalize() - train_df['last_review']).dt.days\n",
    "test_df['days_since_last_review'] = (pd.Timestamp.now().normalize() - test_df['last_review']).dt.days\n",
    "\n",
    "non_log_chart = alt.Chart(train_df).transform_density(\n",
    "    'days_since_last_review',\n",
    "    ['days_since_last_review', 'density']\n",
    ").mark_area().encode(\n",
    "    alt.X('days_since_last_review', type='quantitative'),\n",
    "    alt.Y('density:Q')\n",
    ").properties(\n",
    "    title = 'Distribution of days since last review'\n",
    ")\n",
    "\n",
    "temp = train_df.copy()\n",
    "temp['days_since_last_review'] = train_df['days_since_last_review'].apply(np.log)\n",
    "log_chart = alt.Chart(temp).transform_density(\n",
    "    'days_since_last_review',\n",
    "    ['days_since_last_review', 'density']\n",
    ").mark_area().encode(\n",
    "    alt.X('days_since_last_review', type='quantitative'),\n",
    "    alt.Y('density:Q')\n",
    ").properties(\n",
    "    title = 'Log Distribution of days since last review'\n",
    ")\n",
    "\n",
    "non_log_chart | log_chart"
   ]
  },
  {
   "cell_type": "markdown",
   "metadata": {},
   "source": [
    "<!-- END QUESTION -->\n",
    "\n",
    "<!-- BEGIN QUESTION -->\n",
    "\n",
    "<div class=\"alert alert-info\">\n",
    "\n",
    "## 5. Preprocessing and transformations <a name=\"5\"></a>\n",
    "rubric={accuracy,reasoning}\n",
    "\n",
    "**Your tasks:**\n",
    "\n",
    "1. Identify different feature types and the transformations you would apply on each feature type. \n",
    "2. Define a column transformer, if necessary. \n",
    "    \n",
    "</div>\n",
    "\n",
    "_Points:_ 4"
   ]
  },
  {
   "cell_type": "markdown",
   "metadata": {},
   "source": [
    "After performing EDA to take a good look at the features available to us for this problem, we have decided to make the following preprocessing on our features:\n",
    "\n",
    "- numerical features: we perform scaling on the numeric features. we also perform log transformation on these feaures $-$ `days_since_last_review`, `price`, `minimum_nights`, `calculated_host_listings_count`, `number_of_reviews`, and `availability_365`\n",
    "- categorical features: we perform one-hot encoding on these features $-$ `room_type`, `neighbourhood_group`\n",
    "- drop features: the following features are being dropped from the data as they are either too varied (unique) or may make the model more complex. They may be used later in case the model is perform poorly $-$ `neighbourhood`, `host_id`, `id`, `name`, `host_name`, `last_review`"
   ]
  },
  {
   "cell_type": "code",
   "execution_count": 19,
   "metadata": {
    "tags": []
   },
   "outputs": [
    {
     "data": {
      "text/html": [
       "<style>#sk-container-id-1 {color: black;background-color: white;}#sk-container-id-1 pre{padding: 0;}#sk-container-id-1 div.sk-toggleable {background-color: white;}#sk-container-id-1 label.sk-toggleable__label {cursor: pointer;display: block;width: 100%;margin-bottom: 0;padding: 0.3em;box-sizing: border-box;text-align: center;}#sk-container-id-1 label.sk-toggleable__label-arrow:before {content: \"▸\";float: left;margin-right: 0.25em;color: #696969;}#sk-container-id-1 label.sk-toggleable__label-arrow:hover:before {color: black;}#sk-container-id-1 div.sk-estimator:hover label.sk-toggleable__label-arrow:before {color: black;}#sk-container-id-1 div.sk-toggleable__content {max-height: 0;max-width: 0;overflow: hidden;text-align: left;background-color: #f0f8ff;}#sk-container-id-1 div.sk-toggleable__content pre {margin: 0.2em;color: black;border-radius: 0.25em;background-color: #f0f8ff;}#sk-container-id-1 input.sk-toggleable__control:checked~div.sk-toggleable__content {max-height: 200px;max-width: 100%;overflow: auto;}#sk-container-id-1 input.sk-toggleable__control:checked~label.sk-toggleable__label-arrow:before {content: \"▾\";}#sk-container-id-1 div.sk-estimator input.sk-toggleable__control:checked~label.sk-toggleable__label {background-color: #d4ebff;}#sk-container-id-1 div.sk-label input.sk-toggleable__control:checked~label.sk-toggleable__label {background-color: #d4ebff;}#sk-container-id-1 input.sk-hidden--visually {border: 0;clip: rect(1px 1px 1px 1px);clip: rect(1px, 1px, 1px, 1px);height: 1px;margin: -1px;overflow: hidden;padding: 0;position: absolute;width: 1px;}#sk-container-id-1 div.sk-estimator {font-family: monospace;background-color: #f0f8ff;border: 1px dotted black;border-radius: 0.25em;box-sizing: border-box;margin-bottom: 0.5em;}#sk-container-id-1 div.sk-estimator:hover {background-color: #d4ebff;}#sk-container-id-1 div.sk-parallel-item::after {content: \"\";width: 100%;border-bottom: 1px solid gray;flex-grow: 1;}#sk-container-id-1 div.sk-label:hover label.sk-toggleable__label {background-color: #d4ebff;}#sk-container-id-1 div.sk-serial::before {content: \"\";position: absolute;border-left: 1px solid gray;box-sizing: border-box;top: 0;bottom: 0;left: 50%;z-index: 0;}#sk-container-id-1 div.sk-serial {display: flex;flex-direction: column;align-items: center;background-color: white;padding-right: 0.2em;padding-left: 0.2em;position: relative;}#sk-container-id-1 div.sk-item {position: relative;z-index: 1;}#sk-container-id-1 div.sk-parallel {display: flex;align-items: stretch;justify-content: center;background-color: white;position: relative;}#sk-container-id-1 div.sk-item::before, #sk-container-id-1 div.sk-parallel-item::before {content: \"\";position: absolute;border-left: 1px solid gray;box-sizing: border-box;top: 0;bottom: 0;left: 50%;z-index: -1;}#sk-container-id-1 div.sk-parallel-item {display: flex;flex-direction: column;z-index: 1;position: relative;background-color: white;}#sk-container-id-1 div.sk-parallel-item:first-child::after {align-self: flex-end;width: 50%;}#sk-container-id-1 div.sk-parallel-item:last-child::after {align-self: flex-start;width: 50%;}#sk-container-id-1 div.sk-parallel-item:only-child::after {width: 0;}#sk-container-id-1 div.sk-dashed-wrapped {border: 1px dashed gray;margin: 0 0.4em 0.5em 0.4em;box-sizing: border-box;padding-bottom: 0.4em;background-color: white;}#sk-container-id-1 div.sk-label label {font-family: monospace;font-weight: bold;display: inline-block;line-height: 1.2em;}#sk-container-id-1 div.sk-label-container {text-align: center;}#sk-container-id-1 div.sk-container {/* jupyter's `normalize.less` sets `[hidden] { display: none; }` but bootstrap.min.css set `[hidden] { display: none !important; }` so we also need the `!important` here to be able to override the default hidden behavior on the sphinx rendered scikit-learn.org. See: https://github.com/scikit-learn/scikit-learn/issues/21755 */display: inline-block !important;position: relative;}#sk-container-id-1 div.sk-text-repr-fallback {display: none;}</style><div id=\"sk-container-id-1\" class=\"sk-top-container\"><div class=\"sk-text-repr-fallback\"><pre>ColumnTransformer(transformers=[(&#x27;functiontransformer&#x27;,\n",
       "                                 FunctionTransformer(func=&lt;function log_transformer at 0x13ff33520&gt;),\n",
       "                                 [&#x27;price&#x27;, &#x27;number_of_reviews&#x27;,\n",
       "                                  &#x27;calculated_host_listings_count&#x27;]),\n",
       "                                (&#x27;standardscaler&#x27;, StandardScaler(),\n",
       "                                 [&#x27;latitude&#x27;, &#x27;latitude&#x27;, &#x27;minimum_nights&#x27;,\n",
       "                                  &#x27;days_since_last_review&#x27;, &#x27;availability_365&#x27;,\n",
       "                                  &#x27;price&#x27;, &#x27;number_of_reviews&#x27;,\n",
       "                                  &#x27;calculated_host_listings_count&#x27;]),\n",
       "                                (&#x27;onehotencoder&#x27;,\n",
       "                                 OneHotEncoder(handle_unknown=&#x27;ignore&#x27;),\n",
       "                                 [&#x27;neighbourhood_group&#x27;, &#x27;room_type&#x27;]),\n",
       "                                (&#x27;drop&#x27;, &#x27;drop&#x27;,\n",
       "                                 [&#x27;neighbourhood&#x27;, &#x27;host_id&#x27;, &#x27;id&#x27;, &#x27;name&#x27;,\n",
       "                                  &#x27;host_name&#x27;, &#x27;last_review&#x27;])])</pre><b>In a Jupyter environment, please rerun this cell to show the HTML representation or trust the notebook. <br />On GitHub, the HTML representation is unable to render, please try loading this page with nbviewer.org.</b></div><div class=\"sk-container\" hidden><div class=\"sk-item sk-dashed-wrapped\"><div class=\"sk-label-container\"><div class=\"sk-label sk-toggleable\"><input class=\"sk-toggleable__control sk-hidden--visually\" id=\"sk-estimator-id-1\" type=\"checkbox\" ><label for=\"sk-estimator-id-1\" class=\"sk-toggleable__label sk-toggleable__label-arrow\">ColumnTransformer</label><div class=\"sk-toggleable__content\"><pre>ColumnTransformer(transformers=[(&#x27;functiontransformer&#x27;,\n",
       "                                 FunctionTransformer(func=&lt;function log_transformer at 0x13ff33520&gt;),\n",
       "                                 [&#x27;price&#x27;, &#x27;number_of_reviews&#x27;,\n",
       "                                  &#x27;calculated_host_listings_count&#x27;]),\n",
       "                                (&#x27;standardscaler&#x27;, StandardScaler(),\n",
       "                                 [&#x27;latitude&#x27;, &#x27;latitude&#x27;, &#x27;minimum_nights&#x27;,\n",
       "                                  &#x27;days_since_last_review&#x27;, &#x27;availability_365&#x27;,\n",
       "                                  &#x27;price&#x27;, &#x27;number_of_reviews&#x27;,\n",
       "                                  &#x27;calculated_host_listings_count&#x27;]),\n",
       "                                (&#x27;onehotencoder&#x27;,\n",
       "                                 OneHotEncoder(handle_unknown=&#x27;ignore&#x27;),\n",
       "                                 [&#x27;neighbourhood_group&#x27;, &#x27;room_type&#x27;]),\n",
       "                                (&#x27;drop&#x27;, &#x27;drop&#x27;,\n",
       "                                 [&#x27;neighbourhood&#x27;, &#x27;host_id&#x27;, &#x27;id&#x27;, &#x27;name&#x27;,\n",
       "                                  &#x27;host_name&#x27;, &#x27;last_review&#x27;])])</pre></div></div></div><div class=\"sk-parallel\"><div class=\"sk-parallel-item\"><div class=\"sk-item\"><div class=\"sk-label-container\"><div class=\"sk-label sk-toggleable\"><input class=\"sk-toggleable__control sk-hidden--visually\" id=\"sk-estimator-id-2\" type=\"checkbox\" ><label for=\"sk-estimator-id-2\" class=\"sk-toggleable__label sk-toggleable__label-arrow\">functiontransformer</label><div class=\"sk-toggleable__content\"><pre>[&#x27;price&#x27;, &#x27;number_of_reviews&#x27;, &#x27;calculated_host_listings_count&#x27;]</pre></div></div></div><div class=\"sk-serial\"><div class=\"sk-item\"><div class=\"sk-estimator sk-toggleable\"><input class=\"sk-toggleable__control sk-hidden--visually\" id=\"sk-estimator-id-3\" type=\"checkbox\" ><label for=\"sk-estimator-id-3\" class=\"sk-toggleable__label sk-toggleable__label-arrow\">FunctionTransformer</label><div class=\"sk-toggleable__content\"><pre>FunctionTransformer(func=&lt;function log_transformer at 0x13ff33520&gt;)</pre></div></div></div></div></div></div><div class=\"sk-parallel-item\"><div class=\"sk-item\"><div class=\"sk-label-container\"><div class=\"sk-label sk-toggleable\"><input class=\"sk-toggleable__control sk-hidden--visually\" id=\"sk-estimator-id-4\" type=\"checkbox\" ><label for=\"sk-estimator-id-4\" class=\"sk-toggleable__label sk-toggleable__label-arrow\">standardscaler</label><div class=\"sk-toggleable__content\"><pre>[&#x27;latitude&#x27;, &#x27;latitude&#x27;, &#x27;minimum_nights&#x27;, &#x27;days_since_last_review&#x27;, &#x27;availability_365&#x27;, &#x27;price&#x27;, &#x27;number_of_reviews&#x27;, &#x27;calculated_host_listings_count&#x27;]</pre></div></div></div><div class=\"sk-serial\"><div class=\"sk-item\"><div class=\"sk-estimator sk-toggleable\"><input class=\"sk-toggleable__control sk-hidden--visually\" id=\"sk-estimator-id-5\" type=\"checkbox\" ><label for=\"sk-estimator-id-5\" class=\"sk-toggleable__label sk-toggleable__label-arrow\">StandardScaler</label><div class=\"sk-toggleable__content\"><pre>StandardScaler()</pre></div></div></div></div></div></div><div class=\"sk-parallel-item\"><div class=\"sk-item\"><div class=\"sk-label-container\"><div class=\"sk-label sk-toggleable\"><input class=\"sk-toggleable__control sk-hidden--visually\" id=\"sk-estimator-id-6\" type=\"checkbox\" ><label for=\"sk-estimator-id-6\" class=\"sk-toggleable__label sk-toggleable__label-arrow\">onehotencoder</label><div class=\"sk-toggleable__content\"><pre>[&#x27;neighbourhood_group&#x27;, &#x27;room_type&#x27;]</pre></div></div></div><div class=\"sk-serial\"><div class=\"sk-item\"><div class=\"sk-estimator sk-toggleable\"><input class=\"sk-toggleable__control sk-hidden--visually\" id=\"sk-estimator-id-7\" type=\"checkbox\" ><label for=\"sk-estimator-id-7\" class=\"sk-toggleable__label sk-toggleable__label-arrow\">OneHotEncoder</label><div class=\"sk-toggleable__content\"><pre>OneHotEncoder(handle_unknown=&#x27;ignore&#x27;)</pre></div></div></div></div></div></div><div class=\"sk-parallel-item\"><div class=\"sk-item\"><div class=\"sk-label-container\"><div class=\"sk-label sk-toggleable\"><input class=\"sk-toggleable__control sk-hidden--visually\" id=\"sk-estimator-id-8\" type=\"checkbox\" ><label for=\"sk-estimator-id-8\" class=\"sk-toggleable__label sk-toggleable__label-arrow\">drop</label><div class=\"sk-toggleable__content\"><pre>[&#x27;neighbourhood&#x27;, &#x27;host_id&#x27;, &#x27;id&#x27;, &#x27;name&#x27;, &#x27;host_name&#x27;, &#x27;last_review&#x27;]</pre></div></div></div><div class=\"sk-serial\"><div class=\"sk-item\"><div class=\"sk-estimator sk-toggleable\"><input class=\"sk-toggleable__control sk-hidden--visually\" id=\"sk-estimator-id-9\" type=\"checkbox\" ><label for=\"sk-estimator-id-9\" class=\"sk-toggleable__label sk-toggleable__label-arrow\">drop</label><div class=\"sk-toggleable__content\"><pre>drop</pre></div></div></div></div></div></div></div></div></div></div>"
      ],
      "text/plain": [
       "ColumnTransformer(transformers=[('functiontransformer',\n",
       "                                 FunctionTransformer(func=<function log_transformer at 0x13ff33520>),\n",
       "                                 ['price', 'number_of_reviews',\n",
       "                                  'calculated_host_listings_count']),\n",
       "                                ('standardscaler', StandardScaler(),\n",
       "                                 ['latitude', 'latitude', 'minimum_nights',\n",
       "                                  'days_since_last_review', 'availability_365',\n",
       "                                  'price', 'number_of_reviews',\n",
       "                                  'calculated_host_listings_count']),\n",
       "                                ('onehotencoder',\n",
       "                                 OneHotEncoder(handle_unknown='ignore'),\n",
       "                                 ['neighbourhood_group', 'room_type']),\n",
       "                                ('drop', 'drop',\n",
       "                                 ['neighbourhood', 'host_id', 'id', 'name',\n",
       "                                  'host_name', 'last_review'])])"
      ]
     },
     "execution_count": 19,
     "metadata": {},
     "output_type": "execute_result"
    }
   ],
   "source": [
    "numerical_feats = ['latitude', 'latitude', 'minimum_nights', 'days_since_last_review', 'availability_365']\n",
    "log_numerical_feats = ['price', 'number_of_reviews', 'calculated_host_listings_count']\n",
    "categorical_feats = ['neighbourhood_group', 'room_type']\n",
    "drop_feats = ['neighbourhood', 'host_id', 'id', 'name', 'host_name', 'last_review']\n",
    "\n",
    "preprocessor = make_column_transformer(\n",
    "    (FunctionTransformer(helper_functions.log_transformer), log_numerical_feats),\n",
    "    (StandardScaler(), numerical_feats + log_numerical_feats),\n",
    "    (OneHotEncoder(handle_unknown='ignore'), categorical_feats),\n",
    "    ('drop', drop_feats)\n",
    ")\n",
    "preprocessor"
   ]
  },
  {
   "cell_type": "markdown",
   "metadata": {},
   "source": [
    "<!-- END QUESTION -->\n",
    "\n",
    "<!-- BEGIN QUESTION -->\n",
    "\n",
    "<div class=\"alert alert-info\">\n",
    "\n",
    "## 6. Baseline model <a name=\"6\"></a>\n",
    "rubric={accuracy}\n",
    "\n",
    "**Your tasks:**\n",
    "1. Train a baseline model for your task and report its performance.\n",
    "    \n",
    "</div>\n",
    "\n",
    "_Points:_ 2"
   ]
  },
  {
   "cell_type": "markdown",
   "metadata": {},
   "source": [
    "## Creating a baseline\n",
    "---\n",
    "We make use decision tree as well as a basic linear regression model as a baseline. This will give us a reference to test against when we use other more power models later on.\n",
    "But before we do any of that, we need to seperate our features from the target variables.\n",
    "\n",
    "1. The Decision Tree performs perfectly on training score however has the worst validation score\n",
    "2. Linear Regression performs  almost as poorly itself in both train and validation scores "
   ]
  },
  {
   "cell_type": "code",
   "execution_count": 20,
   "metadata": {},
   "outputs": [],
   "source": [
    "X_train, y_train = train_df.drop(columns=['reviews_per_month']), train_df['reviews_per_month']\n",
    "X_test, y_test = test_df.drop(columns=['reviews_per_month']), test_df['reviews_per_month']"
   ]
  },
  {
   "cell_type": "code",
   "execution_count": 21,
   "metadata": {
    "tags": []
   },
   "outputs": [
    {
     "data": {
      "text/html": [
       "<div>\n",
       "<style scoped>\n",
       "    .dataframe tbody tr th:only-of-type {\n",
       "        vertical-align: middle;\n",
       "    }\n",
       "\n",
       "    .dataframe tbody tr th {\n",
       "        vertical-align: top;\n",
       "    }\n",
       "\n",
       "    .dataframe thead tr th {\n",
       "        text-align: left;\n",
       "    }\n",
       "</style>\n",
       "<table border=\"1\" class=\"dataframe\">\n",
       "  <thead>\n",
       "    <tr>\n",
       "      <th></th>\n",
       "      <th colspan=\"2\" halign=\"left\">Base-Linear</th>\n",
       "      <th colspan=\"2\" halign=\"left\">Base-Tree</th>\n",
       "    </tr>\n",
       "    <tr>\n",
       "      <th></th>\n",
       "      <th>mean</th>\n",
       "      <th>std</th>\n",
       "      <th>mean</th>\n",
       "      <th>std</th>\n",
       "    </tr>\n",
       "  </thead>\n",
       "  <tbody>\n",
       "    <tr>\n",
       "      <th>fit_time</th>\n",
       "      <td>0.022</td>\n",
       "      <td>0.005</td>\n",
       "      <td>0.162</td>\n",
       "      <td>0.004</td>\n",
       "    </tr>\n",
       "    <tr>\n",
       "      <th>score_time</th>\n",
       "      <td>0.003</td>\n",
       "      <td>0.000</td>\n",
       "      <td>0.003</td>\n",
       "      <td>0.000</td>\n",
       "    </tr>\n",
       "    <tr>\n",
       "      <th>test_score</th>\n",
       "      <td>0.428</td>\n",
       "      <td>0.015</td>\n",
       "      <td>0.304</td>\n",
       "      <td>0.037</td>\n",
       "    </tr>\n",
       "    <tr>\n",
       "      <th>train_score</th>\n",
       "      <td>0.428</td>\n",
       "      <td>0.002</td>\n",
       "      <td>1.000</td>\n",
       "      <td>0.000</td>\n",
       "    </tr>\n",
       "  </tbody>\n",
       "</table>\n",
       "</div>"
      ],
      "text/plain": [
       "            Base-Linear        Base-Tree       \n",
       "                   mean    std      mean    std\n",
       "fit_time          0.022  0.005     0.162  0.004\n",
       "score_time        0.003  0.000     0.003  0.000\n",
       "test_score        0.428  0.015     0.304  0.037\n",
       "train_score       0.428  0.002     1.000  0.000"
      ]
     },
     "execution_count": 21,
     "metadata": {},
     "output_type": "execute_result"
    }
   ],
   "source": [
    "cross_val_results = {}\n",
    "\n",
    "pipe_linear = make_pipeline(\n",
    "    preprocessor,\n",
    "    LinearRegression()\n",
    ")\n",
    "\n",
    "pipe_decisiontree = make_pipeline(\n",
    "    preprocessor,\n",
    "    DecisionTreeRegressor()\n",
    ")\n",
    "\n",
    "cross_val_results[\"Base-Linear\"] = pd.DataFrame(cross_validate(\n",
    "    pipe_linear,\n",
    "    X_train,\n",
    "    y_train,\n",
    "    cv=10,\n",
    "    scoring=\"r2\",\n",
    "    return_train_score=True,\n",
    "    error_score='raise'\n",
    ")).agg(['mean','std']).round(3).T\n",
    "\n",
    "cross_val_results[\"Base-Tree\"] = pd.DataFrame(cross_validate(\n",
    "    pipe_decisiontree,\n",
    "    X_train,\n",
    "    y_train,\n",
    "    cv=10,\n",
    "    scoring=\"r2\",\n",
    "    return_train_score=True,\n",
    "    error_score='raise'\n",
    ")).agg(['mean','std']).round(3).T\n",
    "\n",
    "pd.concat(cross_val_results, axis=1)"
   ]
  },
  {
   "cell_type": "markdown",
   "metadata": {},
   "source": [
    "<!-- END QUESTION -->\n",
    "\n",
    "<!-- BEGIN QUESTION -->\n",
    "\n",
    "<div class=\"alert alert-info\">\n",
    "\n",
    "## 7. Linear models <a name=\"7\"></a>\n",
    "rubric={accuracy,reasoning}\n",
    "\n",
    "**Your tasks:**\n",
    "\n",
    "1. Try a linear model as a first real attempt. \n",
    "2. Carry out hyperparameter tuning to explore different values for the regularization hyperparameter. \n",
    "3. Report cross-validation scores along with standard deviation. \n",
    "4. Summarize your results.\n",
    "    \n",
    "</div>\n",
    "\n",
    "_Points:_ 8"
   ]
  },
  {
   "cell_type": "markdown",
   "metadata": {},
   "source": [
    "We try a model `Ridge` which performs L2 regularization as well as Hyperparameter optimization on `alpha` . However, we don't expect this to do much as we aren't overfitting the data by any means.\n",
    "\n",
    "As is evident from the data frame below. The linear model does not make any change in the scores. The model is still heavily under-fitting the data."
   ]
  },
  {
   "cell_type": "code",
   "execution_count": 22,
   "metadata": {
    "tags": []
   },
   "outputs": [
    {
     "data": {
      "text/html": [
       "<div>\n",
       "<style scoped>\n",
       "    .dataframe tbody tr th:only-of-type {\n",
       "        vertical-align: middle;\n",
       "    }\n",
       "\n",
       "    .dataframe tbody tr th {\n",
       "        vertical-align: top;\n",
       "    }\n",
       "\n",
       "    .dataframe thead tr th {\n",
       "        text-align: left;\n",
       "    }\n",
       "</style>\n",
       "<table border=\"1\" class=\"dataframe\">\n",
       "  <thead>\n",
       "    <tr>\n",
       "      <th></th>\n",
       "      <th colspan=\"2\" halign=\"left\">Base-Linear</th>\n",
       "      <th colspan=\"2\" halign=\"left\">Base-Tree</th>\n",
       "      <th colspan=\"2\" halign=\"left\">Ridge</th>\n",
       "    </tr>\n",
       "    <tr>\n",
       "      <th></th>\n",
       "      <th>mean</th>\n",
       "      <th>std</th>\n",
       "      <th>mean</th>\n",
       "      <th>std</th>\n",
       "      <th>mean</th>\n",
       "      <th>std</th>\n",
       "    </tr>\n",
       "  </thead>\n",
       "  <tbody>\n",
       "    <tr>\n",
       "      <th>fit_time</th>\n",
       "      <td>0.022</td>\n",
       "      <td>0.005</td>\n",
       "      <td>0.162</td>\n",
       "      <td>0.004</td>\n",
       "      <td>0.030</td>\n",
       "      <td>0.007</td>\n",
       "    </tr>\n",
       "    <tr>\n",
       "      <th>score_time</th>\n",
       "      <td>0.003</td>\n",
       "      <td>0.000</td>\n",
       "      <td>0.003</td>\n",
       "      <td>0.000</td>\n",
       "      <td>0.003</td>\n",
       "      <td>0.000</td>\n",
       "    </tr>\n",
       "    <tr>\n",
       "      <th>test_score</th>\n",
       "      <td>0.428</td>\n",
       "      <td>0.015</td>\n",
       "      <td>0.304</td>\n",
       "      <td>0.037</td>\n",
       "      <td>0.428</td>\n",
       "      <td>0.015</td>\n",
       "    </tr>\n",
       "    <tr>\n",
       "      <th>train_score</th>\n",
       "      <td>0.428</td>\n",
       "      <td>0.002</td>\n",
       "      <td>1.000</td>\n",
       "      <td>0.000</td>\n",
       "      <td>0.428</td>\n",
       "      <td>0.002</td>\n",
       "    </tr>\n",
       "  </tbody>\n",
       "</table>\n",
       "</div>"
      ],
      "text/plain": [
       "            Base-Linear        Base-Tree         Ridge       \n",
       "                   mean    std      mean    std   mean    std\n",
       "fit_time          0.022  0.005     0.162  0.004  0.030  0.007\n",
       "score_time        0.003  0.000     0.003  0.000  0.003  0.000\n",
       "test_score        0.428  0.015     0.304  0.037  0.428  0.015\n",
       "train_score       0.428  0.002     1.000  0.000  0.428  0.002"
      ]
     },
     "execution_count": 22,
     "metadata": {},
     "output_type": "execute_result"
    }
   ],
   "source": [
    "pipe_ridge = make_pipeline(\n",
    "    preprocessor,\n",
    "    RidgeCV()\n",
    ")\n",
    "\n",
    "cross_val_results[\"Ridge\"] = pd.DataFrame(cross_validate(\n",
    "    pipe_ridge,\n",
    "    X_train,\n",
    "    y_train,\n",
    "    cv=10,\n",
    "    scoring=\"r2\",\n",
    "    return_train_score=True,\n",
    "    error_score='raise'\n",
    ")).agg(['mean','std']).round(3).T\n",
    "\n",
    "pd.concat(cross_val_results, axis=1)"
   ]
  },
  {
   "cell_type": "markdown",
   "metadata": {},
   "source": [
    "<!-- END QUESTION -->\n",
    "\n",
    "<!-- BEGIN QUESTION -->\n",
    "\n",
    "<div class=\"alert alert-info\">\n",
    "\n",
    "## 8. Different models <a name=\"8\"></a>\n",
    "rubric={accuracy,reasoning}\n",
    "\n",
    "**Your tasks:**\n",
    "1. Try out three other models aside from the linear model. \n",
    "2. Summarize your results in terms of overfitting/underfitting and fit and score times. Can you beat the performance of the linear model? \n",
    "    \n",
    "</div>\n",
    "\n",
    "_Points:_ 10"
   ]
  },
  {
   "cell_type": "markdown",
   "metadata": {},
   "source": [
    "We now test 3 different models to see which models have a better off-the-bat fit. We will then optimize those models further to improve the results even more.\n",
    "\n",
    "- `CatBoost` is a optimized ensemble learning method which improves upon random forest. This regressor performs the best on the training as well as test data and thus looks very promising. It also seems that the model is overfitting a little bit.\n",
    "- `SVR` didn't quite perform too well and neither did `KNN` which also had an overfitting scenario. These models may be improved a little with hyperparameter optimization."
   ]
  },
  {
   "cell_type": "code",
   "execution_count": 23,
   "metadata": {
    "tags": []
   },
   "outputs": [
    {
     "data": {
      "text/html": [
       "<div>\n",
       "<style scoped>\n",
       "    .dataframe tbody tr th:only-of-type {\n",
       "        vertical-align: middle;\n",
       "    }\n",
       "\n",
       "    .dataframe tbody tr th {\n",
       "        vertical-align: top;\n",
       "    }\n",
       "\n",
       "    .dataframe thead tr th {\n",
       "        text-align: left;\n",
       "    }\n",
       "</style>\n",
       "<table border=\"1\" class=\"dataframe\">\n",
       "  <thead>\n",
       "    <tr>\n",
       "      <th></th>\n",
       "      <th colspan=\"2\" halign=\"left\">Base-Linear</th>\n",
       "      <th colspan=\"2\" halign=\"left\">Base-Tree</th>\n",
       "      <th colspan=\"2\" halign=\"left\">Ridge</th>\n",
       "      <th colspan=\"2\" halign=\"left\">Randomforest</th>\n",
       "      <th colspan=\"2\" halign=\"left\">KNN</th>\n",
       "      <th colspan=\"2\" halign=\"left\">SVR</th>\n",
       "    </tr>\n",
       "    <tr>\n",
       "      <th></th>\n",
       "      <th>mean</th>\n",
       "      <th>std</th>\n",
       "      <th>mean</th>\n",
       "      <th>std</th>\n",
       "      <th>mean</th>\n",
       "      <th>std</th>\n",
       "      <th>mean</th>\n",
       "      <th>std</th>\n",
       "      <th>mean</th>\n",
       "      <th>std</th>\n",
       "      <th>mean</th>\n",
       "      <th>std</th>\n",
       "    </tr>\n",
       "  </thead>\n",
       "  <tbody>\n",
       "    <tr>\n",
       "      <th>fit_time</th>\n",
       "      <td>0.022</td>\n",
       "      <td>0.005</td>\n",
       "      <td>0.162</td>\n",
       "      <td>0.004</td>\n",
       "      <td>0.030</td>\n",
       "      <td>0.007</td>\n",
       "      <td>13.776</td>\n",
       "      <td>2.135</td>\n",
       "      <td>0.023</td>\n",
       "      <td>0.006</td>\n",
       "      <td>23.311</td>\n",
       "      <td>4.877</td>\n",
       "    </tr>\n",
       "    <tr>\n",
       "      <th>score_time</th>\n",
       "      <td>0.003</td>\n",
       "      <td>0.000</td>\n",
       "      <td>0.003</td>\n",
       "      <td>0.000</td>\n",
       "      <td>0.003</td>\n",
       "      <td>0.000</td>\n",
       "      <td>0.228</td>\n",
       "      <td>0.107</td>\n",
       "      <td>0.251</td>\n",
       "      <td>0.036</td>\n",
       "      <td>3.514</td>\n",
       "      <td>0.688</td>\n",
       "    </tr>\n",
       "    <tr>\n",
       "      <th>test_score</th>\n",
       "      <td>0.428</td>\n",
       "      <td>0.015</td>\n",
       "      <td>0.304</td>\n",
       "      <td>0.037</td>\n",
       "      <td>0.428</td>\n",
       "      <td>0.015</td>\n",
       "      <td>0.646</td>\n",
       "      <td>0.021</td>\n",
       "      <td>0.476</td>\n",
       "      <td>0.022</td>\n",
       "      <td>0.481</td>\n",
       "      <td>0.020</td>\n",
       "    </tr>\n",
       "    <tr>\n",
       "      <th>train_score</th>\n",
       "      <td>0.428</td>\n",
       "      <td>0.002</td>\n",
       "      <td>1.000</td>\n",
       "      <td>0.000</td>\n",
       "      <td>0.428</td>\n",
       "      <td>0.002</td>\n",
       "      <td>0.950</td>\n",
       "      <td>0.001</td>\n",
       "      <td>0.654</td>\n",
       "      <td>0.002</td>\n",
       "      <td>0.484</td>\n",
       "      <td>0.002</td>\n",
       "    </tr>\n",
       "  </tbody>\n",
       "</table>\n",
       "</div>"
      ],
      "text/plain": [
       "            Base-Linear        Base-Tree         Ridge        Randomforest  \\\n",
       "                   mean    std      mean    std   mean    std         mean   \n",
       "fit_time          0.022  0.005     0.162  0.004  0.030  0.007       13.776   \n",
       "score_time        0.003  0.000     0.003  0.000  0.003  0.000        0.228   \n",
       "test_score        0.428  0.015     0.304  0.037  0.428  0.015        0.646   \n",
       "train_score       0.428  0.002     1.000  0.000  0.428  0.002        0.950   \n",
       "\n",
       "                      KNN            SVR         \n",
       "               std   mean    std    mean    std  \n",
       "fit_time     2.135  0.023  0.006  23.311  4.877  \n",
       "score_time   0.107  0.251  0.036   3.514  0.688  \n",
       "test_score   0.021  0.476  0.022   0.481  0.020  \n",
       "train_score  0.001  0.654  0.002   0.484  0.002  "
      ]
     },
     "execution_count": 23,
     "metadata": {},
     "output_type": "execute_result"
    }
   ],
   "source": [
    "# create pipeline for Random forest regressor\n",
    "pipe_rf = make_pipeline(\n",
    "    preprocessor,\n",
    "    RandomForestRegressor(random_state=123)\n",
    ")\n",
    "\n",
    "# create pipeline for SVC\n",
    "pipe_svr = make_pipeline(\n",
    "    preprocessor,\n",
    "    SVR()\n",
    ")\n",
    "\n",
    "# create pipeline for KNN regressor\n",
    "pipe_knn = make_pipeline(\n",
    "    preprocessor,\n",
    "    KNeighborsRegressor(n_jobs=-1)\n",
    ")\n",
    "\n",
    "# cross validation for Randomforest\n",
    "cross_val_results[\"Randomforest\"] = pd.DataFrame(cross_validate(\n",
    "    pipe_rf,\n",
    "    X_train,\n",
    "    y_train,\n",
    "    cv=10,\n",
    "    n_jobs=-1,\n",
    "    scoring=\"r2\",\n",
    "    return_train_score=True,\n",
    ")).agg(['mean','std']).round(3).T\n",
    "\n",
    "# cross validation for KNN\n",
    "cross_val_results[\"KNN\"] = pd.DataFrame(cross_validate(\n",
    "    pipe_knn,\n",
    "    X_train,\n",
    "    y_train,\n",
    "    cv=10,\n",
    "    n_jobs=-1,\n",
    "    scoring=\"r2\",\n",
    "    return_train_score=True,\n",
    ")).agg(['mean','std']).round(3).T\n",
    "\n",
    "# cross validation for SVR\n",
    "cross_val_results[\"SVR\"] = pd.DataFrame(cross_validate(\n",
    "    pipe_svr,\n",
    "    X_train,\n",
    "    y_train,\n",
    "    cv=10,\n",
    "    n_jobs=-1,\n",
    "    scoring=\"r2\",\n",
    "    return_train_score=True,\n",
    ")).agg(['mean','std']).round(3).T\n",
    "\n",
    "pd.concat(cross_val_results, axis=1)"
   ]
  },
  {
   "cell_type": "markdown",
   "metadata": {},
   "source": [
    "<!-- END QUESTION -->\n",
    "\n",
    "<!-- BEGIN QUESTION -->\n",
    "\n",
    "<div class=\"alert alert-warning\">\n",
    "\n",
    "## 9. Feature selection (Challenging)\n",
    "rubric={reasoning}\n",
    "\n",
    "**Your tasks:**\n",
    "\n",
    "Make some attempts to select relevant features. You may try `RFECV`, forward selection or L1 regularization for this. Do the results improve with feature selection? Summarize your results. If you see improvements in the results, keep feature selection in your pipeline. If not, you may abandon it in the next exercises unless you think there are other benefits with using less features.\n",
    "    \n",
    "</div>\n",
    "\n",
    "_Points:_ 0.5"
   ]
  },
  {
   "cell_type": "markdown",
   "metadata": {},
   "source": [
    "## Feature Selection\n",
    "---\n",
    "We try 2 different kinds of feature selection on the best performing model from the previous question. But feature selection does not work as intended and we don't see any improvements in the results. This makes sense as from our EDA as well as the performance of previous models, we know that our data is non-linear. the feature selection we carried out uses mostly linear estimators for selection and so wasn't able to contribute much."
   ]
  },
  {
   "cell_type": "code",
   "execution_count": 24,
   "metadata": {
    "tags": []
   },
   "outputs": [
    {
     "name": "stderr",
     "output_type": "stream",
     "text": [
      "/Users/ashwinbabu/opt/miniconda3/envs/573/lib/python3.10/site-packages/sklearn/feature_selection/_sequential.py:188: FutureWarning: Leaving `n_features_to_select` to None is deprecated in 1.0 and will become 'auto' in 1.3. To keep the same behaviour as with None (i.e. select half of the features) and avoid this warning, you should manually set `n_features_to_select='auto'` and set tol=None when creating an instance.\n",
      "  warnings.warn(\n",
      "/Users/ashwinbabu/opt/miniconda3/envs/573/lib/python3.10/site-packages/sklearn/feature_selection/_sequential.py:188: FutureWarning: Leaving `n_features_to_select` to None is deprecated in 1.0 and will become 'auto' in 1.3. To keep the same behaviour as with None (i.e. select half of the features) and avoid this warning, you should manually set `n_features_to_select='auto'` and set tol=None when creating an instance.\n",
      "  warnings.warn(\n",
      "/Users/ashwinbabu/opt/miniconda3/envs/573/lib/python3.10/site-packages/sklearn/feature_selection/_sequential.py:188: FutureWarning: Leaving `n_features_to_select` to None is deprecated in 1.0 and will become 'auto' in 1.3. To keep the same behaviour as with None (i.e. select half of the features) and avoid this warning, you should manually set `n_features_to_select='auto'` and set tol=None when creating an instance.\n",
      "  warnings.warn(\n",
      "/Users/ashwinbabu/opt/miniconda3/envs/573/lib/python3.10/site-packages/sklearn/feature_selection/_sequential.py:188: FutureWarning: Leaving `n_features_to_select` to None is deprecated in 1.0 and will become 'auto' in 1.3. To keep the same behaviour as with None (i.e. select half of the features) and avoid this warning, you should manually set `n_features_to_select='auto'` and set tol=None when creating an instance.\n",
      "  warnings.warn(\n",
      "/Users/ashwinbabu/opt/miniconda3/envs/573/lib/python3.10/site-packages/sklearn/feature_selection/_sequential.py:188: FutureWarning: Leaving `n_features_to_select` to None is deprecated in 1.0 and will become 'auto' in 1.3. To keep the same behaviour as with None (i.e. select half of the features) and avoid this warning, you should manually set `n_features_to_select='auto'` and set tol=None when creating an instance.\n",
      "  warnings.warn(\n",
      "/Users/ashwinbabu/opt/miniconda3/envs/573/lib/python3.10/site-packages/sklearn/feature_selection/_sequential.py:188: FutureWarning: Leaving `n_features_to_select` to None is deprecated in 1.0 and will become 'auto' in 1.3. To keep the same behaviour as with None (i.e. select half of the features) and avoid this warning, you should manually set `n_features_to_select='auto'` and set tol=None when creating an instance.\n",
      "  warnings.warn(\n",
      "/Users/ashwinbabu/opt/miniconda3/envs/573/lib/python3.10/site-packages/sklearn/feature_selection/_sequential.py:188: FutureWarning: Leaving `n_features_to_select` to None is deprecated in 1.0 and will become 'auto' in 1.3. To keep the same behaviour as with None (i.e. select half of the features) and avoid this warning, you should manually set `n_features_to_select='auto'` and set tol=None when creating an instance.\n",
      "  warnings.warn(\n",
      "/Users/ashwinbabu/opt/miniconda3/envs/573/lib/python3.10/site-packages/sklearn/feature_selection/_sequential.py:188: FutureWarning: Leaving `n_features_to_select` to None is deprecated in 1.0 and will become 'auto' in 1.3. To keep the same behaviour as with None (i.e. select half of the features) and avoid this warning, you should manually set `n_features_to_select='auto'` and set tol=None when creating an instance.\n",
      "  warnings.warn(\n",
      "/Users/ashwinbabu/opt/miniconda3/envs/573/lib/python3.10/site-packages/sklearn/feature_selection/_sequential.py:188: FutureWarning: Leaving `n_features_to_select` to None is deprecated in 1.0 and will become 'auto' in 1.3. To keep the same behaviour as with None (i.e. select half of the features) and avoid this warning, you should manually set `n_features_to_select='auto'` and set tol=None when creating an instance.\n",
      "  warnings.warn(\n",
      "/Users/ashwinbabu/opt/miniconda3/envs/573/lib/python3.10/site-packages/sklearn/feature_selection/_sequential.py:188: FutureWarning: Leaving `n_features_to_select` to None is deprecated in 1.0 and will become 'auto' in 1.3. To keep the same behaviour as with None (i.e. select half of the features) and avoid this warning, you should manually set `n_features_to_select='auto'` and set tol=None when creating an instance.\n",
      "  warnings.warn(\n"
     ]
    },
    {
     "data": {
      "text/html": [
       "<div>\n",
       "<style scoped>\n",
       "    .dataframe tbody tr th:only-of-type {\n",
       "        vertical-align: middle;\n",
       "    }\n",
       "\n",
       "    .dataframe tbody tr th {\n",
       "        vertical-align: top;\n",
       "    }\n",
       "\n",
       "    .dataframe thead tr th {\n",
       "        text-align: left;\n",
       "    }\n",
       "</style>\n",
       "<table border=\"1\" class=\"dataframe\">\n",
       "  <thead>\n",
       "    <tr>\n",
       "      <th></th>\n",
       "      <th colspan=\"2\" halign=\"left\">Base-Linear</th>\n",
       "      <th colspan=\"2\" halign=\"left\">Base-Tree</th>\n",
       "      <th colspan=\"2\" halign=\"left\">Ridge</th>\n",
       "      <th colspan=\"2\" halign=\"left\">Randomforest</th>\n",
       "      <th colspan=\"2\" halign=\"left\">KNN</th>\n",
       "      <th colspan=\"2\" halign=\"left\">SVR</th>\n",
       "      <th colspan=\"2\" halign=\"left\">Random forest Feat. Ridge</th>\n",
       "      <th colspan=\"2\" halign=\"left\">Random forest Feat. Lasso</th>\n",
       "    </tr>\n",
       "    <tr>\n",
       "      <th></th>\n",
       "      <th>mean</th>\n",
       "      <th>std</th>\n",
       "      <th>mean</th>\n",
       "      <th>std</th>\n",
       "      <th>mean</th>\n",
       "      <th>std</th>\n",
       "      <th>mean</th>\n",
       "      <th>std</th>\n",
       "      <th>mean</th>\n",
       "      <th>std</th>\n",
       "      <th>mean</th>\n",
       "      <th>std</th>\n",
       "      <th>mean</th>\n",
       "      <th>std</th>\n",
       "      <th>mean</th>\n",
       "      <th>std</th>\n",
       "    </tr>\n",
       "  </thead>\n",
       "  <tbody>\n",
       "    <tr>\n",
       "      <th>fit_time</th>\n",
       "      <td>0.022</td>\n",
       "      <td>0.005</td>\n",
       "      <td>0.162</td>\n",
       "      <td>0.004</td>\n",
       "      <td>0.030</td>\n",
       "      <td>0.007</td>\n",
       "      <td>13.776</td>\n",
       "      <td>2.135</td>\n",
       "      <td>0.023</td>\n",
       "      <td>0.006</td>\n",
       "      <td>23.311</td>\n",
       "      <td>4.877</td>\n",
       "      <td>7.815</td>\n",
       "      <td>1.273</td>\n",
       "      <td>8.957</td>\n",
       "      <td>1.277</td>\n",
       "    </tr>\n",
       "    <tr>\n",
       "      <th>score_time</th>\n",
       "      <td>0.003</td>\n",
       "      <td>0.000</td>\n",
       "      <td>0.003</td>\n",
       "      <td>0.000</td>\n",
       "      <td>0.003</td>\n",
       "      <td>0.000</td>\n",
       "      <td>0.228</td>\n",
       "      <td>0.107</td>\n",
       "      <td>0.251</td>\n",
       "      <td>0.036</td>\n",
       "      <td>3.514</td>\n",
       "      <td>0.688</td>\n",
       "      <td>0.121</td>\n",
       "      <td>0.039</td>\n",
       "      <td>0.123</td>\n",
       "      <td>0.034</td>\n",
       "    </tr>\n",
       "    <tr>\n",
       "      <th>test_score</th>\n",
       "      <td>0.428</td>\n",
       "      <td>0.015</td>\n",
       "      <td>0.304</td>\n",
       "      <td>0.037</td>\n",
       "      <td>0.428</td>\n",
       "      <td>0.015</td>\n",
       "      <td>0.646</td>\n",
       "      <td>0.021</td>\n",
       "      <td>0.476</td>\n",
       "      <td>0.022</td>\n",
       "      <td>0.481</td>\n",
       "      <td>0.020</td>\n",
       "      <td>0.614</td>\n",
       "      <td>0.024</td>\n",
       "      <td>0.645</td>\n",
       "      <td>0.020</td>\n",
       "    </tr>\n",
       "    <tr>\n",
       "      <th>train_score</th>\n",
       "      <td>0.428</td>\n",
       "      <td>0.002</td>\n",
       "      <td>1.000</td>\n",
       "      <td>0.000</td>\n",
       "      <td>0.428</td>\n",
       "      <td>0.002</td>\n",
       "      <td>0.950</td>\n",
       "      <td>0.001</td>\n",
       "      <td>0.654</td>\n",
       "      <td>0.002</td>\n",
       "      <td>0.484</td>\n",
       "      <td>0.002</td>\n",
       "      <td>0.943</td>\n",
       "      <td>0.006</td>\n",
       "      <td>0.949</td>\n",
       "      <td>0.001</td>\n",
       "    </tr>\n",
       "  </tbody>\n",
       "</table>\n",
       "</div>"
      ],
      "text/plain": [
       "            Base-Linear        Base-Tree         Ridge        Randomforest  \\\n",
       "                   mean    std      mean    std   mean    std         mean   \n",
       "fit_time          0.022  0.005     0.162  0.004  0.030  0.007       13.776   \n",
       "score_time        0.003  0.000     0.003  0.000  0.003  0.000        0.228   \n",
       "test_score        0.428  0.015     0.304  0.037  0.428  0.015        0.646   \n",
       "train_score       0.428  0.002     1.000  0.000  0.428  0.002        0.950   \n",
       "\n",
       "                      KNN            SVR        Random forest Feat. Ridge  \\\n",
       "               std   mean    std    mean    std                      mean   \n",
       "fit_time     2.135  0.023  0.006  23.311  4.877                     7.815   \n",
       "score_time   0.107  0.251  0.036   3.514  0.688                     0.121   \n",
       "test_score   0.021  0.476  0.022   0.481  0.020                     0.614   \n",
       "train_score  0.001  0.654  0.002   0.484  0.002                     0.943   \n",
       "\n",
       "                   Random forest Feat. Lasso         \n",
       "               std                      mean    std  \n",
       "fit_time     1.273                     8.957  1.277  \n",
       "score_time   0.039                     0.123  0.034  \n",
       "test_score   0.024                     0.645  0.020  \n",
       "train_score  0.006                     0.949  0.001  "
      ]
     },
     "execution_count": 24,
     "metadata": {},
     "output_type": "execute_result"
    }
   ],
   "source": [
    "from sklearn.feature_selection import RFECV\n",
    "from sklearn.feature_selection import SequentialFeatureSelector\n",
    "from sklearn.feature_selection import SelectFromModel\n",
    "from sklearn.linear_model import Lasso\n",
    "from sklearn.linear_model import Ridge\n",
    "\n",
    "# pipe_rfe = make_pipeline(\n",
    "#     preprocessor,\n",
    "#     RFECV(RandomForestRegressor()),\n",
    "#     CatBoostRegressor(verbose=0, random_state=123)\n",
    "# )\n",
    "pipe_forward = make_pipeline(\n",
    "    preprocessor,\n",
    "    SequentialFeatureSelector(Ridge(), direction='forward'),\n",
    "    RandomForestRegressor( random_state=123)\n",
    ")\n",
    "pipe_lasso = make_pipeline(\n",
    "    preprocessor,\n",
    "    SelectFromModel(Lasso(alpha=0.01)),\n",
    "    RandomForestRegressor(random_state=123)\n",
    ")\n",
    "\n",
    "# cross validation for \n",
    "# cross_val_results[\"Cat Boost Feat. RFR\"] = pd.DataFrame(cross_validate(\n",
    "#     pipe_rfe,\n",
    "#     X_train,\n",
    "#     y_train,\n",
    "#     cv=10,\n",
    "#     n_jobs=-1,\n",
    "#     scoring=\"r2\",\n",
    "#     return_train_score=True,\n",
    "# )).agg(['mean','std']).round(3).T\n",
    "\n",
    "# cross validation for \n",
    "cross_val_results[\"Random forest Feat. Ridge\"] = pd.DataFrame(cross_validate(\n",
    "    pipe_forward,\n",
    "    X_train,\n",
    "    y_train,\n",
    "    cv=10,\n",
    "    n_jobs=-1,\n",
    "    scoring=\"r2\",\n",
    "    return_train_score=True,\n",
    ")).agg(['mean','std']).round(3).T\n",
    "\n",
    "# cross validation for \n",
    "cross_val_results[\"Random forest Feat. Lasso\"] = pd.DataFrame(cross_validate(\n",
    "    pipe_lasso,\n",
    "    X_train,\n",
    "    y_train,\n",
    "    cv=10,\n",
    "    n_jobs=-1,\n",
    "    scoring=\"r2\",\n",
    "    return_train_score=True,\n",
    ")).agg(['mean','std']).round(3).T\n",
    "\n",
    "pd.concat(cross_val_results, axis=1)"
   ]
  },
  {
   "cell_type": "markdown",
   "metadata": {},
   "source": [
    "<!-- END QUESTION -->\n",
    "\n",
    "<!-- BEGIN QUESTION -->\n",
    "\n",
    "<div class=\"alert alert-info\">\n",
    "\n",
    "## 10. Hyperparameter optimization\n",
    "rubric={accuracy,reasoning}\n",
    "\n",
    "**Your tasks:**\n",
    "\n",
    "Make some attempts to optimize hyperparameters for the models you've tried and summarize your results. In at least one case you should be optimizing multiple hyperparameters for a single model. You may use `sklearn`'s methods for hyperparameter optimization or fancier Bayesian optimization methods. \n",
    "  - [GridSearchCV](http://scikit-learn.org/stable/modules/generated/sklearn.model_selection.GridSearchCV.html)   \n",
    "  - [RandomizedSearchCV](http://scikit-learn.org/stable/modules/generated/sklearn.model_selection.RandomizedSearchCV.html)\n",
    "  - [scikit-optimize](https://github.com/scikit-optimize/scikit-optimize) \n",
    "    \n",
    "</div>\n",
    "\n",
    "_Points:_ 6"
   ]
  },
  {
   "cell_type": "markdown",
   "metadata": {},
   "source": [
    "_Type your answer here, replacing this text._"
   ]
  },
  {
   "cell_type": "code",
   "execution_count": 25,
   "metadata": {
    "tags": []
   },
   "outputs": [
    {
     "data": {
      "text/plain": [
       "{'memory': None,\n",
       " 'steps': [('columntransformer',\n",
       "   ColumnTransformer(transformers=[('functiontransformer',\n",
       "                                    FunctionTransformer(func=<function log_transformer at 0x13ff33520>),\n",
       "                                    ['price', 'number_of_reviews',\n",
       "                                     'calculated_host_listings_count']),\n",
       "                                   ('standardscaler', StandardScaler(),\n",
       "                                    ['latitude', 'latitude', 'minimum_nights',\n",
       "                                     'days_since_last_review', 'availability_365',\n",
       "                                     'price', 'number_of_reviews',\n",
       "                                     'calculated_host_listings_count']),\n",
       "                                   ('onehotencoder',\n",
       "                                    OneHotEncoder(handle_unknown='ignore'),\n",
       "                                    ['neighbourhood_group', 'room_type']),\n",
       "                                   ('drop', 'drop',\n",
       "                                    ['neighbourhood', 'host_id', 'id', 'name',\n",
       "                                     'host_name', 'last_review'])])),\n",
       "  ('randomforestregressor', RandomForestRegressor(random_state=123))],\n",
       " 'verbose': False,\n",
       " 'columntransformer': ColumnTransformer(transformers=[('functiontransformer',\n",
       "                                  FunctionTransformer(func=<function log_transformer at 0x13ff33520>),\n",
       "                                  ['price', 'number_of_reviews',\n",
       "                                   'calculated_host_listings_count']),\n",
       "                                 ('standardscaler', StandardScaler(),\n",
       "                                  ['latitude', 'latitude', 'minimum_nights',\n",
       "                                   'days_since_last_review', 'availability_365',\n",
       "                                   'price', 'number_of_reviews',\n",
       "                                   'calculated_host_listings_count']),\n",
       "                                 ('onehotencoder',\n",
       "                                  OneHotEncoder(handle_unknown='ignore'),\n",
       "                                  ['neighbourhood_group', 'room_type']),\n",
       "                                 ('drop', 'drop',\n",
       "                                  ['neighbourhood', 'host_id', 'id', 'name',\n",
       "                                   'host_name', 'last_review'])]),\n",
       " 'randomforestregressor': RandomForestRegressor(random_state=123),\n",
       " 'columntransformer__n_jobs': None,\n",
       " 'columntransformer__remainder': 'drop',\n",
       " 'columntransformer__sparse_threshold': 0.3,\n",
       " 'columntransformer__transformer_weights': None,\n",
       " 'columntransformer__transformers': [('functiontransformer',\n",
       "   FunctionTransformer(func=<function log_transformer at 0x13ff33520>),\n",
       "   ['price', 'number_of_reviews', 'calculated_host_listings_count']),\n",
       "  ('standardscaler',\n",
       "   StandardScaler(),\n",
       "   ['latitude',\n",
       "    'latitude',\n",
       "    'minimum_nights',\n",
       "    'days_since_last_review',\n",
       "    'availability_365',\n",
       "    'price',\n",
       "    'number_of_reviews',\n",
       "    'calculated_host_listings_count']),\n",
       "  ('onehotencoder',\n",
       "   OneHotEncoder(handle_unknown='ignore'),\n",
       "   ['neighbourhood_group', 'room_type']),\n",
       "  ('drop',\n",
       "   'drop',\n",
       "   ['neighbourhood', 'host_id', 'id', 'name', 'host_name', 'last_review'])],\n",
       " 'columntransformer__verbose': False,\n",
       " 'columntransformer__verbose_feature_names_out': True,\n",
       " 'columntransformer__functiontransformer': FunctionTransformer(func=<function log_transformer at 0x13ff33520>),\n",
       " 'columntransformer__standardscaler': StandardScaler(),\n",
       " 'columntransformer__onehotencoder': OneHotEncoder(handle_unknown='ignore'),\n",
       " 'columntransformer__drop': 'drop',\n",
       " 'columntransformer__functiontransformer__accept_sparse': False,\n",
       " 'columntransformer__functiontransformer__check_inverse': True,\n",
       " 'columntransformer__functiontransformer__feature_names_out': None,\n",
       " 'columntransformer__functiontransformer__func': <function helper_functions.log_transformer(x)>,\n",
       " 'columntransformer__functiontransformer__inv_kw_args': None,\n",
       " 'columntransformer__functiontransformer__inverse_func': None,\n",
       " 'columntransformer__functiontransformer__kw_args': None,\n",
       " 'columntransformer__functiontransformer__validate': False,\n",
       " 'columntransformer__standardscaler__copy': True,\n",
       " 'columntransformer__standardscaler__with_mean': True,\n",
       " 'columntransformer__standardscaler__with_std': True,\n",
       " 'columntransformer__onehotencoder__categories': 'auto',\n",
       " 'columntransformer__onehotencoder__drop': None,\n",
       " 'columntransformer__onehotencoder__dtype': numpy.float64,\n",
       " 'columntransformer__onehotencoder__handle_unknown': 'ignore',\n",
       " 'columntransformer__onehotencoder__max_categories': None,\n",
       " 'columntransformer__onehotencoder__min_frequency': None,\n",
       " 'columntransformer__onehotencoder__sparse': True,\n",
       " 'randomforestregressor__bootstrap': True,\n",
       " 'randomforestregressor__ccp_alpha': 0.0,\n",
       " 'randomforestregressor__criterion': 'squared_error',\n",
       " 'randomforestregressor__max_depth': None,\n",
       " 'randomforestregressor__max_features': 1.0,\n",
       " 'randomforestregressor__max_leaf_nodes': None,\n",
       " 'randomforestregressor__max_samples': None,\n",
       " 'randomforestregressor__min_impurity_decrease': 0.0,\n",
       " 'randomforestregressor__min_samples_leaf': 1,\n",
       " 'randomforestregressor__min_samples_split': 2,\n",
       " 'randomforestregressor__min_weight_fraction_leaf': 0.0,\n",
       " 'randomforestregressor__n_estimators': 100,\n",
       " 'randomforestregressor__n_jobs': None,\n",
       " 'randomforestregressor__oob_score': False,\n",
       " 'randomforestregressor__random_state': 123,\n",
       " 'randomforestregressor__verbose': 0,\n",
       " 'randomforestregressor__warm_start': False}"
      ]
     },
     "execution_count": 25,
     "metadata": {},
     "output_type": "execute_result"
    }
   ],
   "source": [
    "pipe_rf.get_params()"
   ]
  },
  {
   "cell_type": "code",
   "execution_count": 26,
   "metadata": {},
   "outputs": [],
   "source": [
    "from sklearn.model_selection import RandomizedSearchCV\n",
    "\n",
    "param_dist = {\"randomforestregressor__n_estimators\": [int(x) for x in np.linspace(200, 2000, num = 10)],\n",
    "              \"randomforestregressor__max_features\": ['auto', 'sqrt'],\n",
    "              \"randomforestregressor__max_depth\": [int(x) for x in np.linspace(10, 110, num = 11)]\n",
    "             }\n",
    "\n",
    "random_cv = RandomizedSearchCV(pipe_rf,\n",
    "                            param_dist,\n",
    "                                   n_jobs=-1,\n",
    "                                   cv=10,\n",
    "                                   n_iter=30,\n",
    "                                   return_train_score=True)\n"
   ]
  },
  {
   "cell_type": "code",
   "execution_count": 27,
   "metadata": {},
   "outputs": [
    {
     "name": "stderr",
     "output_type": "stream",
     "text": [
      "/Users/ashwinbabu/opt/miniconda3/envs/573/lib/python3.10/site-packages/sklearn/ensemble/_forest.py:416: FutureWarning: `max_features='auto'` has been deprecated in 1.1 and will be removed in 1.3. To keep the past behaviour, explicitly set `max_features=1.0` or remove this parameter as it is also the default value for RandomForestRegressors and ExtraTreesRegressors.\n",
      "  warn(\n",
      "/Users/ashwinbabu/opt/miniconda3/envs/573/lib/python3.10/site-packages/sklearn/ensemble/_forest.py:416: FutureWarning: `max_features='auto'` has been deprecated in 1.1 and will be removed in 1.3. To keep the past behaviour, explicitly set `max_features=1.0` or remove this parameter as it is also the default value for RandomForestRegressors and ExtraTreesRegressors.\n",
      "  warn(\n",
      "/Users/ashwinbabu/opt/miniconda3/envs/573/lib/python3.10/site-packages/sklearn/ensemble/_forest.py:416: FutureWarning: `max_features='auto'` has been deprecated in 1.1 and will be removed in 1.3. To keep the past behaviour, explicitly set `max_features=1.0` or remove this parameter as it is also the default value for RandomForestRegressors and ExtraTreesRegressors.\n",
      "  warn(\n",
      "/Users/ashwinbabu/opt/miniconda3/envs/573/lib/python3.10/site-packages/sklearn/ensemble/_forest.py:416: FutureWarning: `max_features='auto'` has been deprecated in 1.1 and will be removed in 1.3. To keep the past behaviour, explicitly set `max_features=1.0` or remove this parameter as it is also the default value for RandomForestRegressors and ExtraTreesRegressors.\n",
      "  warn(\n",
      "/Users/ashwinbabu/opt/miniconda3/envs/573/lib/python3.10/site-packages/sklearn/ensemble/_forest.py:416: FutureWarning: `max_features='auto'` has been deprecated in 1.1 and will be removed in 1.3. To keep the past behaviour, explicitly set `max_features=1.0` or remove this parameter as it is also the default value for RandomForestRegressors and ExtraTreesRegressors.\n",
      "  warn(\n",
      "/Users/ashwinbabu/opt/miniconda3/envs/573/lib/python3.10/site-packages/sklearn/ensemble/_forest.py:416: FutureWarning: `max_features='auto'` has been deprecated in 1.1 and will be removed in 1.3. To keep the past behaviour, explicitly set `max_features=1.0` or remove this parameter as it is also the default value for RandomForestRegressors and ExtraTreesRegressors.\n",
      "  warn(\n",
      "/Users/ashwinbabu/opt/miniconda3/envs/573/lib/python3.10/site-packages/sklearn/ensemble/_forest.py:416: FutureWarning: `max_features='auto'` has been deprecated in 1.1 and will be removed in 1.3. To keep the past behaviour, explicitly set `max_features=1.0` or remove this parameter as it is also the default value for RandomForestRegressors and ExtraTreesRegressors.\n",
      "  warn(\n",
      "/Users/ashwinbabu/opt/miniconda3/envs/573/lib/python3.10/site-packages/joblib/externals/loky/process_executor.py:702: UserWarning: A worker stopped while some jobs were given to the executor. This can be caused by a too short worker timeout or by a memory leak.\n",
      "  warnings.warn(\n",
      "/Users/ashwinbabu/opt/miniconda3/envs/573/lib/python3.10/site-packages/sklearn/ensemble/_forest.py:416: FutureWarning: `max_features='auto'` has been deprecated in 1.1 and will be removed in 1.3. To keep the past behaviour, explicitly set `max_features=1.0` or remove this parameter as it is also the default value for RandomForestRegressors and ExtraTreesRegressors.\n",
      "  warn(\n",
      "/Users/ashwinbabu/opt/miniconda3/envs/573/lib/python3.10/site-packages/sklearn/ensemble/_forest.py:416: FutureWarning: `max_features='auto'` has been deprecated in 1.1 and will be removed in 1.3. To keep the past behaviour, explicitly set `max_features=1.0` or remove this parameter as it is also the default value for RandomForestRegressors and ExtraTreesRegressors.\n",
      "  warn(\n",
      "/Users/ashwinbabu/opt/miniconda3/envs/573/lib/python3.10/site-packages/sklearn/ensemble/_forest.py:416: FutureWarning: `max_features='auto'` has been deprecated in 1.1 and will be removed in 1.3. To keep the past behaviour, explicitly set `max_features=1.0` or remove this parameter as it is also the default value for RandomForestRegressors and ExtraTreesRegressors.\n",
      "  warn(\n",
      "/Users/ashwinbabu/opt/miniconda3/envs/573/lib/python3.10/site-packages/sklearn/ensemble/_forest.py:416: FutureWarning: `max_features='auto'` has been deprecated in 1.1 and will be removed in 1.3. To keep the past behaviour, explicitly set `max_features=1.0` or remove this parameter as it is also the default value for RandomForestRegressors and ExtraTreesRegressors.\n",
      "  warn(\n",
      "/Users/ashwinbabu/opt/miniconda3/envs/573/lib/python3.10/site-packages/sklearn/ensemble/_forest.py:416: FutureWarning: `max_features='auto'` has been deprecated in 1.1 and will be removed in 1.3. To keep the past behaviour, explicitly set `max_features=1.0` or remove this parameter as it is also the default value for RandomForestRegressors and ExtraTreesRegressors.\n",
      "  warn(\n",
      "/Users/ashwinbabu/opt/miniconda3/envs/573/lib/python3.10/site-packages/sklearn/ensemble/_forest.py:416: FutureWarning: `max_features='auto'` has been deprecated in 1.1 and will be removed in 1.3. To keep the past behaviour, explicitly set `max_features=1.0` or remove this parameter as it is also the default value for RandomForestRegressors and ExtraTreesRegressors.\n",
      "  warn(\n",
      "/Users/ashwinbabu/opt/miniconda3/envs/573/lib/python3.10/site-packages/sklearn/ensemble/_forest.py:416: FutureWarning: `max_features='auto'` has been deprecated in 1.1 and will be removed in 1.3. To keep the past behaviour, explicitly set `max_features=1.0` or remove this parameter as it is also the default value for RandomForestRegressors and ExtraTreesRegressors.\n",
      "  warn(\n",
      "/Users/ashwinbabu/opt/miniconda3/envs/573/lib/python3.10/site-packages/sklearn/ensemble/_forest.py:416: FutureWarning: `max_features='auto'` has been deprecated in 1.1 and will be removed in 1.3. To keep the past behaviour, explicitly set `max_features=1.0` or remove this parameter as it is also the default value for RandomForestRegressors and ExtraTreesRegressors.\n",
      "  warn(\n",
      "/Users/ashwinbabu/opt/miniconda3/envs/573/lib/python3.10/site-packages/sklearn/ensemble/_forest.py:416: FutureWarning: `max_features='auto'` has been deprecated in 1.1 and will be removed in 1.3. To keep the past behaviour, explicitly set `max_features=1.0` or remove this parameter as it is also the default value for RandomForestRegressors and ExtraTreesRegressors.\n",
      "  warn(\n",
      "/Users/ashwinbabu/opt/miniconda3/envs/573/lib/python3.10/site-packages/sklearn/ensemble/_forest.py:416: FutureWarning: `max_features='auto'` has been deprecated in 1.1 and will be removed in 1.3. To keep the past behaviour, explicitly set `max_features=1.0` or remove this parameter as it is also the default value for RandomForestRegressors and ExtraTreesRegressors.\n",
      "  warn(\n",
      "/Users/ashwinbabu/opt/miniconda3/envs/573/lib/python3.10/site-packages/sklearn/ensemble/_forest.py:416: FutureWarning: `max_features='auto'` has been deprecated in 1.1 and will be removed in 1.3. To keep the past behaviour, explicitly set `max_features=1.0` or remove this parameter as it is also the default value for RandomForestRegressors and ExtraTreesRegressors.\n",
      "  warn(\n",
      "/Users/ashwinbabu/opt/miniconda3/envs/573/lib/python3.10/site-packages/sklearn/ensemble/_forest.py:416: FutureWarning: `max_features='auto'` has been deprecated in 1.1 and will be removed in 1.3. To keep the past behaviour, explicitly set `max_features=1.0` or remove this parameter as it is also the default value for RandomForestRegressors and ExtraTreesRegressors.\n",
      "  warn(\n",
      "/Users/ashwinbabu/opt/miniconda3/envs/573/lib/python3.10/site-packages/sklearn/ensemble/_forest.py:416: FutureWarning: `max_features='auto'` has been deprecated in 1.1 and will be removed in 1.3. To keep the past behaviour, explicitly set `max_features=1.0` or remove this parameter as it is also the default value for RandomForestRegressors and ExtraTreesRegressors.\n",
      "  warn(\n"
     ]
    }
   ],
   "source": [
    "random_cv.fit(X_train, y_train)\n",
    "random_cv.best_params_\n"
   ]
  },
  {
   "cell_type": "code",
   "execution_count": null,
   "metadata": {},
   "outputs": [],
   "source": [
    "random_cv.best_score_\n"
   ]
  },
  {
   "cell_type": "markdown",
   "metadata": {},
   "source": [
    "<!-- END QUESTION -->\n",
    "\n",
    "<!-- BEGIN QUESTION -->\n",
    "\n",
    "<div class=\"alert alert-info\">\n",
    "\n",
    "## 11. Interpretation and feature importances <a name=\"1\"></a>\n",
    "rubric={accuracy,reasoning}\n",
    "\n",
    "**Your tasks:**\n",
    "\n",
    "1. Use the methods we saw in class (e.g., `eli5`, `shap`) (or any other methods of your choice) to examine the most important features of one of the non-linear models. \n",
    "2. Summarize your observations. \n",
    "    \n",
    "</div>\n",
    "\n",
    "_Points:_ 8"
   ]
  },
  {
   "cell_type": "markdown",
   "metadata": {},
   "source": [
    "_Type your answer here, replacing this text._"
   ]
  },
  {
   "cell_type": "code",
   "execution_count": null,
   "metadata": {
    "tags": []
   },
   "outputs": [],
   "source": [
    "..."
   ]
  },
  {
   "cell_type": "markdown",
   "metadata": {},
   "source": [
    "<!-- END QUESTION -->\n",
    "\n",
    "<!-- BEGIN QUESTION -->\n",
    "\n",
    "<div class=\"alert alert-info\">\n",
    "\n",
    "## 12. Results on the test set <a name=\"12\"></a>\n",
    "rubric={accuracy,reasoning}\n",
    "\n",
    "**Your tasks:**\n",
    "\n",
    "1. Try your best performing model on the test data and report test scores. \n",
    "2. Do the test scores agree with the validation scores from before? To what extent do you trust your results? Do you think you've had issues with optimization bias? \n",
    "3. Take one or two test predictions and explain them with SHAP force plots.  \n",
    "    \n",
    "</div>\n",
    "\n",
    "_Points:_ 6"
   ]
  },
  {
   "cell_type": "markdown",
   "metadata": {},
   "source": [
    "_Type your answer here, replacing this text._"
   ]
  },
  {
   "cell_type": "code",
   "execution_count": null,
   "metadata": {
    "tags": []
   },
   "outputs": [],
   "source": [
    "..."
   ]
  },
  {
   "cell_type": "markdown",
   "metadata": {},
   "source": [
    "<!-- END QUESTION -->\n",
    "\n",
    "<!-- BEGIN QUESTION -->\n",
    "\n",
    "<div class=\"alert alert-info\">\n",
    "\n",
    "## 13. Summary of results <a name=\"13\"></a>\n",
    "rubric={reasoning}\n",
    "\n",
    "Imagine that you want to present the summary of these results to your boss and co-workers. \n",
    "\n",
    "**Your tasks:**\n",
    "\n",
    "1. Create a table summarizing important results. \n",
    "2. Write concluding remarks.\n",
    "3. Discuss other ideas that you did not try but could potentially improve the performance/interpretability . \n",
    "3. Report your final test score along with the metric you used at the top of this notebook.\n",
    "    \n",
    "</div>\n",
    "\n",
    "_Points:_ 8"
   ]
  },
  {
   "cell_type": "markdown",
   "metadata": {},
   "source": [
    "_Type your answer here, replacing this text._"
   ]
  },
  {
   "cell_type": "code",
   "execution_count": null,
   "metadata": {
    "tags": []
   },
   "outputs": [],
   "source": [
    "..."
   ]
  },
  {
   "cell_type": "markdown",
   "metadata": {},
   "source": [
    "<!-- END QUESTION -->\n",
    "\n",
    "<!-- BEGIN QUESTION -->\n",
    "\n",
    "<div class=\"alert alert-warning\">\n",
    "\n",
    "## 14. Creating a data analysis pipeline (Challenging)\n",
    "rubric={reasoning}\n",
    "\n",
    "**Your tasks:**\n",
    "- In 522 you learned how build a reproducible data analysis pipeline. Convert this notebook into scripts and create a reproducible data analysis pipeline with appropriate documentation. Submit your project folder in addition to this notebook on GitHub and briefly comment on your organization in the text box below.\n",
    "    \n",
    "</div>\n",
    "\n",
    "_Points:_ 2"
   ]
  },
  {
   "cell_type": "markdown",
   "metadata": {},
   "source": [
    "_Type your answer here, replacing this text._"
   ]
  },
  {
   "cell_type": "markdown",
   "metadata": {},
   "source": [
    "<!-- END QUESTION -->\n",
    "\n",
    "<!-- BEGIN QUESTION -->\n",
    "\n",
    "<div class=\"alert alert-warning\">\n",
    "\n",
    "## 15. Your takeaway from the course (Challenging)\n",
    "rubric={reasoning}\n",
    "\n",
    "**Your tasks:**\n",
    "\n",
    "What is your biggest takeaway from this course? \n",
    "    \n",
    "</div>\n",
    "\n",
    "_Points:_ 0.25"
   ]
  },
  {
   "cell_type": "markdown",
   "metadata": {},
   "source": [
    "_Type your answer here, replacing this text._"
   ]
  },
  {
   "cell_type": "markdown",
   "metadata": {},
   "source": [
    "<!-- END QUESTION -->\n",
    "\n",
    "<div class=\"alert alert-danger\" style=\"color:black\">\n",
    "    \n",
    "**Restart, run all and export a PDF before submitting**\n",
    "    \n",
    "Before submitting,\n",
    "don't forget to run all cells in your notebook\n",
    "to make sure there are no errors\n",
    "and so that the TAs can see your plots on Gradescope.\n",
    "You can do this by clicking the ▶▶ button\n",
    "or going to `Kernel -> Restart Kernel and Run All Cells...` in the menu.\n",
    "This is not only important for MDS,\n",
    "but a good habit you should get into before ever committing a notebook to GitHub,\n",
    "so that your collaborators can run it from top to bottom\n",
    "without issues.\n",
    "    \n",
    "After running all the cells,\n",
    "export a PDF of the notebook (preferably the WebPDF export)\n",
    "and upload this PDF together with the ipynb file to Gradescope\n",
    "(you can select two files when uploading to Gradescope)\n",
    "</div>"
   ]
  },
  {
   "cell_type": "markdown",
   "metadata": {
    "tags": [
     "feedback"
    ]
   },
   "source": [
    "---\n",
    "\n",
    "## Help us improve the labs\n",
    "\n",
    "The MDS program is continually looking to improve our courses, including lab questions and content. The following optional questions will not affect your grade in any way nor will they be used for anything other than program improvement:\n",
    "\n",
    "1. Approximately how many hours did you spend working or thinking about this assignment (including lab time)?\n",
    "\n",
    "#Ans:\n",
    "\n",
    "2. Do you have any feedback on the lab you be willing to share? For example, any part or question that you particularly liked or disliked?\n",
    "\n",
    "#Ans:"
   ]
  }
 ],
 "metadata": {
  "kernelspec": {
   "display_name": "Python 3.10.6 ('573')",
   "language": "python",
   "name": "python3"
  },
  "language_info": {
   "codemirror_mode": {
    "name": "ipython",
    "version": 3
   },
   "file_extension": ".py",
   "mimetype": "text/x-python",
   "name": "python",
   "nbconvert_exporter": "python",
   "pygments_lexer": "ipython3",
   "version": "3.10.6"
  },
  "otter": {
   "OK_FORMAT": true,
   "tests": {}
  },
  "vscode": {
   "interpreter": {
    "hash": "840469563bb938686eabc3a61e8fc7c555083663edceca8767238793d381c973"
   }
  }
 },
 "nbformat": 4,
 "nbformat_minor": 4
}
